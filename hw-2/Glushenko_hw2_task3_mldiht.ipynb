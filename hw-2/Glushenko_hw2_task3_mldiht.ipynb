{
 "cells": [
  {
   "cell_type": "code",
   "execution_count": 24,
   "metadata": {
    "collapsed": true
   },
   "outputs": [],
   "source": [
    "from sklearn.datasets import load_boston\n",
    "from sklearn.model_selection import train_test_split\n",
    "from sklearn.metrics import mean_squared_error\n",
    "from collections import namedtuple\n",
    "import numpy as np"
   ]
  },
  {
   "cell_type": "code",
   "execution_count": 25,
   "metadata": {
    "collapsed": false
   },
   "outputs": [],
   "source": [
    "boston = load_boston()\n",
    "X_train, X_test, Y_train, Y_test = train_test_split(boston.data, boston.target, test_size = 0.25)"
   ]
  },
  {
   "cell_type": "code",
   "execution_count": 26,
   "metadata": {
    "collapsed": false
   },
   "outputs": [],
   "source": [
    "class DecisionTree:\n",
    "    def __init__(self, max_depth=5):\n",
    "        self.root = None\n",
    "        self.max_depth = max_depth\n",
    "    \n",
    "    class Node:\n",
    "        def __init__(self, sample, feature, threshold, left_child, right_child):\n",
    "            self.data = np.mean(sample)\n",
    "            self.left_child = left_child\n",
    "            self.right_child = right_child\n",
    "            self.feature = feature\n",
    "            self.threshold = threshold\n",
    "    \n",
    "    def get_part_condition(self, X, Y):\n",
    "        min_crit = None\n",
    "        part_condition = None\n",
    "        for feature in range(len(X[0])):\n",
    "            for threshold in X[:, feature]:\n",
    "                left = Y[X[:, feature] < threshold]\n",
    "                right = Y[X[:,feature] >= threshold]\n",
    "                crit = len(left) * np.var(left)/len(Y) + len(right) * np.var(right)/len(Y)\n",
    "                if min_crit > crit or min_crit is None:\n",
    "                    min_crit = crit\n",
    "                    part_condition = (feature, threshold)\n",
    "                \n",
    "        return part_condition[0], part_condition[1]\n",
    "     \n",
    "    def split(self, X, Y, feature, threshold):\n",
    "        left = X[:, feature] < threshold\n",
    "        right = X[:, feature] >= threshold\n",
    "        \n",
    "        return X[left], X[right], Y[left], Y[right]\n",
    "    \n",
    "    def get_partition(self, X, Y, depth):\n",
    "        if depth == self.max_depth or np.var(Y) == 0 or len(X) <= 1:\n",
    "            return self.Node(Y, None, None, None, None)\n",
    "        feature, threshold = self.get_part_condition(X, Y)\n",
    "        X_left, X_right, Y_left, Y_right = self.split(X, Y, feature, threshold)\n",
    "        left_child = self.get_partition(X_left, Y_left, depth + 1)\n",
    "        right_child = self.get_partition(X_right, Y_right, depth + 1)\n",
    "        \n",
    "        return self.Node(Y, feature, threshold, left_child, right_child)\n",
    "    \n",
    "    def fit(self, X, Y):\n",
    "        self.root = self.get_partition(X, Y, 0)\n",
    "        \n",
    "    def node_predict(self, X, curr_node):\n",
    "        if curr_node.feature is None or curr_node.threshold is None:\n",
    "            return curr_node.data\n",
    "        \n",
    "        \n",
    "        X_left, X_right, left, right = self.split(X, np.arange(len(X)), curr_node.feature, curr_node.threshold)\n",
    "        Y = np.empty(len(X))\n",
    "        Y[left] = self.node_predict(X_left, curr_node.left_child)\n",
    "        Y[right] = self.node_predict(X_right, curr_node.right_child)\n",
    "        return Y\n",
    "    \n",
    "    def predict(self, X):\n",
    "        return self.node_predict(X, self.root)   "
   ]
  },
  {
   "cell_type": "code",
   "execution_count": 27,
   "metadata": {
    "collapsed": false
   },
   "outputs": [
    {
     "data": {
      "text/plain": [
       "array([ 12.69772727,  20.99741379,  17.11489362,  17.11489362,\n",
       "        23.89393939,  45.61428571,  20.99741379,  20.99741379,\n",
       "        21.50909091,  20.99741379])"
      ]
     },
     "execution_count": 27,
     "metadata": {},
     "output_type": "execute_result"
    }
   ],
   "source": [
    "dec_tree = DecisionTree()\n",
    "dec_tree.fit(X_train, Y_train)\n",
    "dec_tree.predict(X_test[:10])"
   ]
  },
  {
   "cell_type": "code",
   "execution_count": 28,
   "metadata": {
    "collapsed": false
   },
   "outputs": [
    {
     "data": {
      "text/plain": [
       "28.068488368376538"
      ]
     },
     "execution_count": 28,
     "metadata": {},
     "output_type": "execute_result"
    }
   ],
   "source": [
    "mean_squared_error(Y_test, dec_tree.predict(X_test))"
   ]
  },
  {
   "cell_type": "code",
   "execution_count": 29,
   "metadata": {
    "collapsed": false
   },
   "outputs": [
    {
     "data": {
      "text/plain": [
       "6.5466477634605438"
      ]
     },
     "execution_count": 29,
     "metadata": {},
     "output_type": "execute_result"
    }
   ],
   "source": [
    "mean_squared_error(Y_train, dec_tree.predict(X_train))"
   ]
  },
  {
   "cell_type": "code",
   "execution_count": null,
   "metadata": {
    "collapsed": true
   },
   "outputs": [],
   "source": []
  }
 ],
 "metadata": {
  "kernelspec": {
   "display_name": "Python 2",
   "language": "python",
   "name": "python2"
  },
  "language_info": {
   "codemirror_mode": {
    "name": "ipython",
    "version": 2
   },
   "file_extension": ".py",
   "mimetype": "text/x-python",
   "name": "python",
   "nbconvert_exporter": "python",
   "pygments_lexer": "ipython2",
   "version": "2.7.13"
  }
 },
 "nbformat": 4,
 "nbformat_minor": 2
}
