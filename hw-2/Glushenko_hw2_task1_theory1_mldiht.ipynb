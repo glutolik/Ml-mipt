{
 "cells": [
  {
   "cell_type": "markdown",
   "metadata": {},
   "source": [
    "Найдем матожидание ошибки по MSE в случае, когда отвечаем таргетом для случайного объекта из листа: <br>\n",
    "$ \\frac{1}{n}*E(\\sum_{i=1}^n(y - \\hat{y}_i)^2) = \\frac{1}{n}*\\sum_{i=1}^n(E(y^2)-2*E(y*\\hat{y}_i) + \\hat{y}_i^2) = E(y^2) - (Ey)^2 + \\frac{1}{n}*\\sum_{i=1}^n((Ey)^2 - 2*\\hat{y}_i*E(y) + \\hat{y}_i^2) =$ <br> \n",
    "$ = D(y) + \\frac{1}{n}*\\sum_{i=1}^n((Ey)^2 - 2*\\hat{y}_i*E(y) + \\hat{y}_i^2) = (*)$<br>\n",
    "$ E(y) = \\sum_{i=1}^n\\hat{y}_i*P(y = \\hat{y}_i) = \\sum_{i=1}^{n}\\hat{y}_i * \\frac{1}{n} = \\bar{y}$ <br>\n",
    "$ => (*) = D(y) + \\frac{1}{n}*\\sum_{i=1}^n(\\bar{y} - \\hat{y}_i)^2 $, а это $ \\ge \\frac{1}{n}*E(\\sum_{i=1}^n(\\bar{y} - \\hat{y}_i)^2) = \\frac{1}{n}*\\sum_{i=1}^n(\\bar{y} - \\hat{y}_i)^2 $ - матожидание ошибки по MSE в случае, когда отвечаем средним значением таргета на объектах обучающей выборки"
   ]
  },
  {
   "cell_type": "code",
   "execution_count": null,
   "metadata": {
    "collapsed": true
   },
   "outputs": [],
   "source": []
  }
 ],
 "metadata": {
  "kernelspec": {
   "display_name": "Python 2",
   "language": "python",
   "name": "python2"
  },
  "language_info": {
   "codemirror_mode": {
    "name": "ipython",
    "version": 2
   },
   "file_extension": ".py",
   "mimetype": "text/x-python",
   "name": "python",
   "nbconvert_exporter": "python",
   "pygments_lexer": "ipython2",
   "version": "2.7.13"
  }
 },
 "nbformat": 4,
 "nbformat_minor": 2
}
