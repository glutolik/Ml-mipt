{
 "cells": [
  {
   "cell_type": "markdown",
   "metadata": {},
   "source": [
    "Наивный байесовский классификатор: $ a(x) = \\arg\\max_yP(y)\\prod_{k=1}^nP(x^{(k)}|y)$ <br>\n",
    "Т.к. априорные вероятности совпадают, то достаточно найти $P(y)*\\arg\\max_y\\prod_{k=1}^ne^-\\frac{(x^{(k)} - \\mu_{yk})^2}{2\\sigma^2} = P(y)*\\arg\\max_ye^-\\frac{\\sum_{k=1}^n(x^{(k)} - \\mu_{yk})^2}{2\\sigma^2}, x^{(k)}, k = 1, ... n$ - признаки объекта x,<br> т.е. классификация сводится к отнесению объекта x к классу y, центр которого $\\mu_y$ ближе всего к x."
   ]
  },
  {
   "cell_type": "code",
   "execution_count": null,
   "metadata": {
    "collapsed": true
   },
   "outputs": [],
   "source": []
  }
 ],
 "metadata": {
  "anaconda-cloud": {},
  "kernelspec": {
   "display_name": "Python [conda env:2env]",
   "language": "python",
   "name": "conda-env-2env-py"
  },
  "language_info": {
   "codemirror_mode": {
    "name": "ipython",
    "version": 2
   },
   "file_extension": ".py",
   "mimetype": "text/x-python",
   "name": "python",
   "nbconvert_exporter": "python",
   "pygments_lexer": "ipython2",
   "version": "2.7.13"
  }
 },
 "nbformat": 4,
 "nbformat_minor": 1
}
