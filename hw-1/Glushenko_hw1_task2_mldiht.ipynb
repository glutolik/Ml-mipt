{
 "cells": [
  {
   "cell_type": "code",
   "execution_count": 47,
   "metadata": {
    "collapsed": false
   },
   "outputs": [],
   "source": [
    "from sklearn import model_selection, datasets, naive_bayes\n",
    "\n",
    "import numpy as np"
   ]
  },
  {
   "cell_type": "code",
   "execution_count": 25,
   "metadata": {
    "collapsed": false,
    "scrolled": true
   },
   "outputs": [],
   "source": [
    "digits = datasets.load_digits()"
   ]
  },
  {
   "cell_type": "code",
   "execution_count": 38,
   "metadata": {
    "collapsed": false
   },
   "outputs": [],
   "source": [
    "cancer = datasets.load_breast_cancer()"
   ]
  },
  {
   "cell_type": "markdown",
   "metadata": {},
   "source": [
    "# Digits dataset"
   ]
  },
  {
   "cell_type": "code",
   "execution_count": 29,
   "metadata": {
    "collapsed": false
   },
   "outputs": [],
   "source": [
    "digits_train_data, digits_test_data, digits_train_labels, digits_test_labels = \\\n",
    "model_selection.train_test_split(digits.data, digits.target, test_size = 0.3)"
   ]
  },
  {
   "cell_type": "code",
   "execution_count": 36,
   "metadata": {
    "collapsed": false
   },
   "outputs": [
    {
     "name": "stdout",
     "output_type": "stream",
     "text": [
      "[  0.   0.   0.   0.   8.  14.  10.   0.   0.   0.   0.   9.   7.   9.  12.\n",
      "   0.   0.   0.   9.   8.   0.  12.   9.   0.   0.   4.  16.   8.  12.  16.\n",
      "   2.   0.   0.   5.  16.  16.  10.  15.   0.   0.   0.   0.   4.   0.   5.\n",
      "  11.   0.   0.   0.   0.   0.   0.   8.   9.   0.   0.   0.   0.   0.   0.\n",
      "  10.  10.   0.   0.] 9\n",
      "[  0.   3.  13.  16.   9.   0.   0.   0.   0.  10.  15.  13.  15.   2.   0.\n",
      "   0.   0.  15.   4.   4.  16.   1.   0.   0.   0.   0.   0.   5.  16.   2.\n",
      "   0.   0.   0.   0.   1.  14.  13.   0.   0.   0.   0.   0.  10.  16.   5.\n",
      "   0.   0.   0.   0.   4.  16.  13.   8.  10.   9.   1.   0.   2.  16.  16.\n",
      "  14.  12.   9.   1.] 2\n",
      "[  0.   3.  15.  16.  15.   3.   0.   0.   0.   3.  10.   8.  15.  12.   0.\n",
      "   0.   0.   0.   0.   0.  14.   8.   0.   0.   0.   0.  11.  13.  16.  16.\n",
      "   8.   0.   0.   1.  15.  16.  15.   7.   2.   0.   0.   0.   5.  16.   5.\n",
      "   0.   0.   0.   0.   2.  16.  11.   0.   0.   0.   0.   0.   3.  16.   5.\n",
      "   0.   0.   0.   0.] 7\n"
     ]
    }
   ],
   "source": [
    "for i in range(3):\n",
    "    print digits_train_data[i], digits_train_labels[i]"
   ]
  },
  {
   "cell_type": "markdown",
   "metadata": {},
   "source": [
    "# Breast_cancer dataset"
   ]
  },
  {
   "cell_type": "code",
   "execution_count": 39,
   "metadata": {
    "collapsed": true
   },
   "outputs": [],
   "source": [
    "cancer_train_data, cancer_test_data, cancer_train_labels, cancer_test_labels = \\\n",
    "model_selection.train_test_split(cancer.data, cancer.target, test_size = 0.3)"
   ]
  },
  {
   "cell_type": "code",
   "execution_count": 46,
   "metadata": {
    "collapsed": false
   },
   "outputs": [
    {
     "name": "stdout",
     "output_type": "stream",
     "text": [
      "[  1.36400000e+01   1.63400000e+01   8.72100000e+01   5.71800000e+02\n",
      "   7.68500000e-02   6.05900000e-02   1.85700000e-02   1.72300000e-02\n",
      "   1.35300000e-01   5.95300000e-02   1.87200000e-01   9.23400000e-01\n",
      "   1.44900000e+00   1.45500000e+01   4.47700000e-03   1.17700000e-02\n",
      "   1.07900000e-02   7.95600000e-03   1.32500000e-02   2.55100000e-03\n",
      "   1.46700000e+01   2.31900000e+01   9.60800000e+01   6.56700000e+02\n",
      "   1.08900000e-01   1.58200000e-01   1.05000000e-01   8.58600000e-02\n",
      "   2.34600000e-01   8.02500000e-02] 1\n",
      "[  1.87700000e+01   2.14300000e+01   1.22900000e+02   1.09200000e+03\n",
      "   9.11600000e-02   1.40200000e-01   1.06000000e-01   6.09000000e-02\n",
      "   1.95300000e-01   6.08300000e-02   6.42200000e-01   1.53000000e+00\n",
      "   4.36900000e+00   8.82500000e+01   7.54800000e-03   3.89700000e-02\n",
      "   3.91400000e-02   1.81600000e-02   2.16800000e-02   4.44500000e-03\n",
      "   2.45400000e+01   3.43700000e+01   1.61100000e+02   1.87300000e+03\n",
      "   1.49800000e-01   4.82700000e-01   4.63400000e-01   2.04800000e-01\n",
      "   3.67900000e-01   9.87000000e-02] 0\n",
      "[  1.14600000e+01   1.81600000e+01   7.35900000e+01   4.03100000e+02\n",
      "   8.85300000e-02   7.69400000e-02   3.34400000e-02   1.50200000e-02\n",
      "   1.41100000e-01   6.24300000e-02   3.27800000e-01   1.05900000e+00\n",
      "   2.47500000e+00   2.29300000e+01   6.65200000e-03   2.65200000e-02\n",
      "   2.22100000e-02   7.80700000e-03   1.89400000e-02   3.41100000e-03\n",
      "   1.26800000e+01   2.16100000e+01   8.26900000e+01   4.89800000e+02\n",
      "   1.14400000e-01   1.78900000e-01   1.22600000e-01   5.50900000e-02\n",
      "   2.20800000e-01   7.63800000e-02] 1\n"
     ]
    }
   ],
   "source": [
    "for i in range(5, 8):\n",
    "    print cancer_train_data[i], cancer_train_labels[i]"
   ]
  },
  {
   "cell_type": "markdown",
   "metadata": {},
   "source": [
    "# Сравнение cross_val_score с использованием BernoulliNB, MultinomialNB, GaussianNB для digits."
   ]
  },
  {
   "cell_type": "code",
   "execution_count": 58,
   "metadata": {
    "collapsed": false
   },
   "outputs": [
    {
     "data": {
      "text/plain": [
       "BernoulliNB(alpha=1.0, binarize=0.0, class_prior=None, fit_prior=True)"
      ]
     },
     "execution_count": 58,
     "metadata": {},
     "output_type": "execute_result"
    }
   ],
   "source": [
    "digits_bern_estimator = naive_bayes.BernoulliNB()\n",
    "digits_bern_estimator.fit(digits_train_data, digits_train_labels)"
   ]
  },
  {
   "cell_type": "code",
   "execution_count": 59,
   "metadata": {
    "collapsed": false
   },
   "outputs": [
    {
     "data": {
      "text/plain": [
       "MultinomialNB(alpha=1.0, class_prior=None, fit_prior=True)"
      ]
     },
     "execution_count": 59,
     "metadata": {},
     "output_type": "execute_result"
    }
   ],
   "source": [
    "digits_mult_estimator = naive_bayes.MultinomialNB()\n",
    "digits_mult_estimator.fit(digits_train_data, digits_train_labels)"
   ]
  },
  {
   "cell_type": "code",
   "execution_count": 60,
   "metadata": {
    "collapsed": false
   },
   "outputs": [
    {
     "data": {
      "text/plain": [
       "GaussianNB(priors=None)"
      ]
     },
     "execution_count": 60,
     "metadata": {},
     "output_type": "execute_result"
    }
   ],
   "source": [
    "digits_gaus_estimator = naive_bayes.GaussianNB()\n",
    "digits_gaus_estimator.fit(digits_train_data, digits_train_labels)"
   ]
  },
  {
   "cell_type": "code",
   "execution_count": 101,
   "metadata": {
    "collapsed": false
   },
   "outputs": [],
   "source": [
    "digits_cross_val_score = np.array( \\\n",
    "                        [model_selection.cross_val_score(digits_bern_estimator, digits_test_data, digits_test_labels).mean(), \\\n",
    "                         model_selection.cross_val_score(digits_mult_estimator, digits_test_data, digits_test_labels).mean(), \\\n",
    "                         model_selection.cross_val_score(digits_gaus_estimator, digits_test_data, digits_test_labels).mean()])"
   ]
  },
  {
   "cell_type": "code",
   "execution_count": 107,
   "metadata": {
    "collapsed": false
   },
   "outputs": [
    {
     "name": "stdout",
     "output_type": "stream",
     "text": [
      "[ 0.83930463  0.87464921  0.80019056]\n",
      "Максимальное качество на digits: 0.874649212354\n"
     ]
    }
   ],
   "source": [
    "print digits_cross_val_score\n",
    "print 'Максимальное качество на digits:', digits_cross_val_score.max()"
   ]
  },
  {
   "cell_type": "markdown",
   "metadata": {},
   "source": [
    "# Сравнение cross_val_score с использованием BernoulliNB, MultinomialNB, GaussianNB для breast_cancer."
   ]
  },
  {
   "cell_type": "code",
   "execution_count": 64,
   "metadata": {
    "collapsed": false
   },
   "outputs": [
    {
     "data": {
      "text/plain": [
       "BernoulliNB(alpha=1.0, binarize=0.0, class_prior=None, fit_prior=True)"
      ]
     },
     "execution_count": 64,
     "metadata": {},
     "output_type": "execute_result"
    }
   ],
   "source": [
    "cancer_bern_estimator = naive_bayes.BernoulliNB()\n",
    "cancer_bern_estimator.fit(cancer_train_data, cancer_train_labels)"
   ]
  },
  {
   "cell_type": "code",
   "execution_count": 65,
   "metadata": {
    "collapsed": false
   },
   "outputs": [
    {
     "data": {
      "text/plain": [
       "MultinomialNB(alpha=1.0, class_prior=None, fit_prior=True)"
      ]
     },
     "execution_count": 65,
     "metadata": {},
     "output_type": "execute_result"
    }
   ],
   "source": [
    "cancer_mult_estimator = naive_bayes.MultinomialNB()\n",
    "cancer_mult_estimator.fit(cancer_train_data, cancer_train_labels)"
   ]
  },
  {
   "cell_type": "code",
   "execution_count": 66,
   "metadata": {
    "collapsed": false
   },
   "outputs": [
    {
     "data": {
      "text/plain": [
       "GaussianNB(priors=None)"
      ]
     },
     "execution_count": 66,
     "metadata": {},
     "output_type": "execute_result"
    }
   ],
   "source": [
    "cancer_gaus_estimator = naive_bayes.GaussianNB()\n",
    "cancer_gaus_estimator.fit(cancer_train_data, cancer_train_labels)"
   ]
  },
  {
   "cell_type": "code",
   "execution_count": 98,
   "metadata": {
    "collapsed": true
   },
   "outputs": [],
   "source": [
    "cancer_cross_val_score = np.array( \\\n",
    "                        [model_selection.cross_val_score(cancer_bern_estimator, cancer_test_data, cancer_test_labels).mean(), \\\n",
    "                         model_selection.cross_val_score(cancer_mult_estimator, cancer_test_data, cancer_test_labels).mean(), \\\n",
    "                         model_selection.cross_val_score(cancer_gaus_estimator, cancer_test_data, cancer_test_labels).mean()])"
   ]
  },
  {
   "cell_type": "code",
   "execution_count": 106,
   "metadata": {
    "collapsed": false
   },
   "outputs": [
    {
     "name": "stdout",
     "output_type": "stream",
     "text": [
      "[ 0.59649123  0.85380117  0.93567251]\n",
      "Максимальное качество на breast_cancer: 0.93567251462\n"
     ]
    }
   ],
   "source": [
    "print cancer_cross_val_score\n",
    "print 'Максимальное качество на breast_cancer:', cancer_cross_val_score.max()"
   ]
  },
  {
   "cell_type": "markdown",
   "metadata": {},
   "source": [
    "$ \\large Вывод: $ На вещественных признаках лучше всего сработал наивный байесовский классификатор с нормальным распределением. <br> Мультиномиальное распределение лучше показало себя на выборке с целыми неотрицательными значениями признаков. "
   ]
  },
  {
   "cell_type": "code",
   "execution_count": null,
   "metadata": {
    "collapsed": true
   },
   "outputs": [],
   "source": []
  }
 ],
 "metadata": {
  "kernelspec": {
   "display_name": "Python 2",
   "language": "python",
   "name": "python2"
  },
  "language_info": {
   "codemirror_mode": {
    "name": "ipython",
    "version": 2
   },
   "file_extension": ".py",
   "mimetype": "text/x-python",
   "name": "python",
   "nbconvert_exporter": "python",
   "pygments_lexer": "ipython2",
   "version": "2.7.13"
  }
 },
 "nbformat": 4,
 "nbformat_minor": 2
}
