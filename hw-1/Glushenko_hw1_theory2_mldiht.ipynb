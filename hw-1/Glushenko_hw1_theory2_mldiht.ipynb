{
 "cells": [
  {
   "cell_type": "markdown",
   "metadata": {},
   "source": [
    "Классификатор дает случайные ответы  $ a(x) = 1$ с вероятностью $p$ и $a(x) = 0$ с вероятностью $1-p$\n",
    "Тогда $TP = \\sum_{i=1}^m\\eta_i, TN =  \\sum_{i=1}^{n-m}1-\\eta_i, FP = \\sum_{i=1}^{n-m}\\eta_i, FN = \\sum_{i=1}^m1-\\eta_i$, <br> тогда $TPR = \\frac{TP}{TP + FN} = p$ и $FPR = \\frac{FP}{FP + TN} = p$,<br> следовательно независимо от p и доли класса 1 в обучающей выборке в среднем точки лежат на прямой $y = x$, следовательно треугольник ROC-AUC в среднем равен 0.5."
   ]
  },
  {
   "cell_type": "code",
   "execution_count": null,
   "metadata": {
    "collapsed": true
   },
   "outputs": [],
   "source": []
  }
 ],
 "metadata": {
  "anaconda-cloud": {},
  "kernelspec": {
   "display_name": "Python [conda env:2env]",
   "language": "python",
   "name": "conda-env-2env-py"
  },
  "language_info": {
   "codemirror_mode": {
    "name": "ipython",
    "version": 2
   },
   "file_extension": ".py",
   "mimetype": "text/x-python",
   "name": "python",
   "nbconvert_exporter": "python",
   "pygments_lexer": "ipython2",
   "version": "2.7.13"
  }
 },
 "nbformat": 4,
 "nbformat_minor": 1
}
