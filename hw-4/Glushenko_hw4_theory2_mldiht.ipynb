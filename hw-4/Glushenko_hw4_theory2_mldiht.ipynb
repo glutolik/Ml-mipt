{
 "cells": [
  {
   "cell_type": "markdown",
   "metadata": {},
   "source": [
    "Пусть $\\omega \\in R^n $ имеет n-мерное гауссовское распределение:<br>\n",
    "\n",
    "$\n",
    "\\rho(\\omega; \\sigma) = \\frac{1}{(2*\\pi\\sigma)^{n/2}}exp(-\\frac{||\\omega||^2}{2*\\sigma}), ||\\omega||^2 = \\sum_{j=1}^n {w_j}^2\n",
    "$\n",
    "\n",
    "т.е. все веса независимы, имеют нулевое матожидание и равные дисперсии $\\sigma$.\n",
    "\n",
    "Логарифмируя, получаем квадратичный регуляризатор:<br><br>\n",
    "\n",
    "$\n",
    "-ln(\\rho(\\omega; \\sigma)) = \\frac{1}{2*\\sigma}||w||^2 + const(\\omega)\n",
    "$\n",
    "\n",
    "Пусть $\\omega \\in R^n $ имеет n-мерное распределение Лапласа:<br>\n",
    "\n",
    "$\n",
    "\\rho(\\omega; C) = \\frac{1}{(2*C)^n}exp(-\\frac{-||\\omega||_1}{C}), ||\\omega||_1 = \\sum_{j=1}^n |w_j|\n",
    "$\n",
    "\n",
    "т.е. все веса независимы, имеют нулевое матожидание и равные дисперсии.\n",
    "\n",
    "Логарифмируя, получаем регуляризатор по $L_1$-норме:<br><br>\n",
    "$\n",
    "-ln\\rho(\\omega; C) = \\frac{1}{C}\\sum_{j=1}^n |w_j| + const(\\omega)\n",
    "$"
   ]
  },
  {
   "cell_type": "code",
   "execution_count": null,
   "metadata": {
    "collapsed": true
   },
   "outputs": [],
   "source": []
  }
 ],
 "metadata": {
  "kernelspec": {
   "display_name": "Python 2",
   "language": "python",
   "name": "python2"
  },
  "language_info": {
   "codemirror_mode": {
    "name": "ipython",
    "version": 2
   },
   "file_extension": ".py",
   "mimetype": "text/x-python",
   "name": "python",
   "nbconvert_exporter": "python",
   "pygments_lexer": "ipython2",
   "version": "2.7.13"
  }
 },
 "nbformat": 4,
 "nbformat_minor": 2
}
