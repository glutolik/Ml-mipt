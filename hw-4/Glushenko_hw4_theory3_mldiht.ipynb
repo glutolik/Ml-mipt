{
 "cells": [
  {
   "cell_type": "markdown",
   "metadata": {},
   "source": [
    "Пусть веса такие, что выполнено: \n",
    "\n",
    "$\n",
    "\\min_{i=1,...,l}= y_i(<\\omega,x_i> - \\omega_0) = 1\n",
    "$\n",
    "\n",
    "Ширина полосы:<br>\n",
    "\n",
    "$\n",
    "<(x_+ - x_-), \\frac{w}{||w||}> = \\frac{2}{||w||}\n",
    "$\n",
    ", где $x_+$ и $x_-$ - точки на противоположных границах полосы. \n",
    "\n",
    "Случай линейно неразделимой выборки\n",
    "\n",
    "$$ \\left\\{\n",
    "\\begin{aligned}\n",
    "<\\omega,\\omega> \\to min;\\\\\n",
    "y_i(<\\omega,x_i> - \\omega_0) \\ge 1, i = 1,...,l\\\\\n",
    "\\end{aligned}\n",
    "\\right. $$\n",
    "\n",
    "$$ \\left\\{\n",
    "\\begin{aligned}\n",
    "\\frac{1}{2}<\\omega,\\omega> + C*\\sum_{i=1}^l \\xi_i \\to min_{\\omega, \\omega_0, \\xi};\\\\\n",
    "y_i(<\\omega,x_i> - \\omega_0) \\ge 1 - \\xi_i, i = 1,...,l;\\\\\n",
    "\\xi_i \\ge 0, i = 1,...,l.\\\\\n",
    "\\end{aligned}\n",
    "\\right. $$\n",
    "\n",
    "$\n",
    "M_i = y_i(<\\omega,x_i> - \\omega_0), \n",
    "$\n",
    "отсутуп на i-том объекте.\n",
    "\n",
    "$\n",
    "\\xi_i \\ge 0\n",
    "$\n",
    "\n",
    "$\n",
    "\\xi_i \\ge 1 - M_i\n",
    "$\n",
    "\n",
    "$\n",
    "\\sum_{i=1}^l \\xi_i \\to min\n",
    "$\n",
    "\n",
    "$\n",
    "\\Rightarrow \\xi_i = max(0,1 - M_i) = (1 - M_i)_+\n",
    "$\n",
    "\n",
    "$\n",
    "Q(\\omega,\\omega_0) = \\sum_{i=1}^l (1 - M_i(\\omega,\\omega_0))_+ + \\frac{1}{2*C}<\\omega,\\omega>^2 \\to min_{\\omega, \\omega_0}\n",
    "$\n"
   ]
  },
  {
   "cell_type": "code",
   "execution_count": null,
   "metadata": {
    "collapsed": true
   },
   "outputs": [],
   "source": []
  }
 ],
 "metadata": {
  "kernelspec": {
   "display_name": "Python 2",
   "language": "python",
   "name": "python2"
  },
  "language_info": {
   "codemirror_mode": {
    "name": "ipython",
    "version": 2
   },
   "file_extension": ".py",
   "mimetype": "text/x-python",
   "name": "python",
   "nbconvert_exporter": "python",
   "pygments_lexer": "ipython2",
   "version": "2.7.13"
  }
 },
 "nbformat": 4,
 "nbformat_minor": 2
}
