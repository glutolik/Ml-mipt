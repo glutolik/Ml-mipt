{
 "cells": [
  {
   "cell_type": "markdown",
   "metadata": {},
   "source": [
    "<span style=\"font-size: 14pt\">MIPT, Advanced ML, Autumn 2017</span>\n",
    "\n",
    "<span style=\"font-size: 16pt\"> HW #9: Recommendation System\n",
    "\n",
    "<span style=\"color:blue; font-size: 12pt\">Andrey Saitgalin </span>\n",
    "<span style=\"color:blue; font-size: 12pt; font-family: 'Verdana'\">andrey.saitgalin@gmail.com</span>, \n",
    "\n",
    "<span style=\"color:blue; font-size: 12pt\">Alexey Dral </span>,\n",
    "<span style=\"color:blue; font-size: 12pt; font-family: 'Verdana'\">aadral@gmail.com</span>"
   ]
  },
  {
   "cell_type": "markdown",
   "metadata": {},
   "source": [
    "<h1 align=\"center\">Organization Info</h1> "
   ]
  },
  {
   "cell_type": "markdown",
   "metadata": {},
   "source": [
    "**Дополнительный материал для выполнения дз**:\n",
    "<a href= \"https://github.com/ml-mipt/ml-mipt-part2/tree/master/2017/lectures\">Лекции по курсу</a>\n",
    "\n",
    "**Оформление дз**: \n",
    "- Присылайте выполненное задание на почту ``ml.course.mipt@gmail.com``\n",
    "- Укажите тему письма в следующем формате ``ML2017_Aut_fall <номер_группы> <фамилия>``, к примеру -- ``ML2017_Aut_fall 401 ivanov``\n",
    "- Выполненное дз сохраните в файл ``<фамилия>_<группа>_task<номер>.ipnb``, к примеру -- ``ivanov_491_task9.ipnb``\n",
    "\n",
    "**Вопросы**:\n",
    "- Присылайте вопросы на почту ``ml.course.mipt@gmail.com``\n",
    "- Укажите тему письма в следующем формате ``ML2017_Aut_fall Question <Содержание вопроса>``\n",
    "\n",
    "** Дедлайн**:\n",
    "<span style=\"color:red; font-size: 12pt\">16.12.2017 23:59 </span>\n",
    "\n",
    "--------\n",
    "- **PS1**: Мы используем автоматические фильтры, и просто не найдем ваше дз, если вы не аккуратно его подпишите.\n",
    "- **PS2**: Напоминаем, что дедлайны жесткие, письма пришедшие после автоматически удаляются =( чтобы соблазна не было."
   ]
  },
  {
   "cell_type": "markdown",
   "metadata": {},
   "source": [
    "<h1 align=\"center\">Check Questions (0%)</h1> \n",
    "Вопросы отсутствуют"
   ]
  },
  {
   "cell_type": "markdown",
   "metadata": {},
   "source": [
    "<h1 align=\"center\"> Practical tasks (100%)</h1>\n",
    "\n",
    "\n",
    "# Построение content-based рекомендательной системы\n",
    "## Part 1\n",
    "Для каждого фильма получите описание в текстовом виде с IMDB или (и) The movie database (у них есть открытое API). https://www.themoviedb.org/?language=ru. Вывести описание фильма под id 778. Также можно использовать рецензии."
   ]
  },
  {
   "cell_type": "code",
   "execution_count": 23,
   "metadata": {},
   "outputs": [
    {
     "name": "stderr",
     "output_type": "stream",
     "text": [
      "100%|██████████| 1000/1000 [19:55<00:00,  1.20s/it]\n"
     ]
    }
   ],
   "source": [
    "import tmdbsimple as tmdb\n",
    "from tqdm import trange\n",
    "tmdb.API_KEY = \"82d15a009321e054584df26bf7530dc7\"\n",
    "\n",
    "movies = {}\n",
    "\n",
    "for i in trange(1000):\n",
    "    try:\n",
    "        movies[i] = tmdb.Movies(i).info()['overview']\n",
    "    except Exception:\n",
    "        continue"
   ]
  },
  {
   "cell_type": "code",
   "execution_count": 70,
   "metadata": {},
   "outputs": [],
   "source": [
    "movies[99116] = tmdb.Movies(99116).info()['overview']"
   ]
  },
  {
   "cell_type": "code",
   "execution_count": 24,
   "metadata": {},
   "outputs": [
    {
     "data": {
      "text/plain": [
       "'Monsieur Hulot comes to a beachside hotel for a vacation, where he accidentally (but good-naturedly) causes havoc.'"
      ]
     },
     "execution_count": 24,
     "metadata": {},
     "output_type": "execute_result"
    }
   ],
   "source": [
    "movies[778]"
   ]
  },
  {
   "cell_type": "markdown",
   "metadata": {},
   "source": [
    "## Part 2 \n",
    "Извлеките текстовые признаки у фильмов: tf idf, биграммы (может какие-то еще). Биграммы - статистика по биграммам, сколько какая биграмма встречается. Формулы для TF-IDF смотреть тут: https://en.wikipedia.org/wiki/Tf%E2%80%93idf \n",
    "    1. Используйте TF с double 0.5 normalization\n",
    "    2. Используйте стандартный IDF: \n",
    "$$idf(t, D) = \\frac{log N}{(1 + |d in D : t in d|)}$$"
   ]
  },
  {
   "cell_type": "code",
   "execution_count": 207,
   "metadata": {
    "collapsed": true
   },
   "outputs": [],
   "source": [
    "from sklearn.feature_extraction.text import CountVectorizer\n",
    "\n",
    "count_vectorizer = CountVectorizer(ngram_range=(1, 2)) \n",
    "count_vectorizer_1 = CountVectorizer(ngram_range=(1, 1))"
   ]
  },
  {
   "cell_type": "code",
   "execution_count": 71,
   "metadata": {},
   "outputs": [
    {
     "data": {
      "text/plain": [
       "<825x36683 sparse matrix of type '<class 'numpy.int64'>'\n",
       "\twith 71403 stored elements in Compressed Sparse Row format>"
      ]
     },
     "execution_count": 71,
     "metadata": {},
     "output_type": "execute_result"
    }
   ],
   "source": [
    "sparse_feature_matrix = count_vectorizer.fit_transform(list(movies.values()))\n",
    "sparse_feature_matrix"
   ]
  },
  {
   "cell_type": "code",
   "execution_count": 209,
   "metadata": {},
   "outputs": [
    {
     "data": {
      "text/plain": [
       "<825x8230 sparse matrix of type '<class 'numpy.int64'>'\n",
       "\twith 32867 stored elements in Compressed Sparse Row format>"
      ]
     },
     "execution_count": 209,
     "metadata": {},
     "output_type": "execute_result"
    }
   ],
   "source": [
    "sparse_feature_matrix_1 = count_vectorizer_1.fit_transform(list(movies.values()))\n",
    "sparse_feature_matrix_1"
   ]
  },
  {
   "cell_type": "code",
   "execution_count": 73,
   "metadata": {},
   "outputs": [],
   "source": [
    "index_to_id = np.unique(np.sort(list(movies.keys())))\n",
    "id_to_index = {}\n",
    "\n",
    "for index, value in enumerate(index_to_id):\n",
    "    id_to_index[int(value)] = index\n",
    "\n",
    "assert len(index_to_id) == len(movies)"
   ]
  },
  {
   "cell_type": "code",
   "execution_count": 210,
   "metadata": {},
   "outputs": [],
   "source": [
    "def tf_idf(t, d, D):\n",
    "    \n",
    "    tf = 0.5 + 0.5*(sparse_feature_matrix_1[id_to_index[d], t]/\n",
    "                    max(sparse_feature_matrix_1[id_to_index[d], :].data))\n",
    "    idf = np.log(len(D)/len(sparse_feature_matrix_1[:, t].indices))\n",
    "    \n",
    "    return tf * idf"
   ]
  },
  {
   "cell_type": "code",
   "execution_count": 211,
   "metadata": {},
   "outputs": [],
   "source": [
    "data_tf_idf = []\n",
    "row_ind = []\n",
    "col_ind = []\n",
    "for d in index_to_id:\n",
    "    for t in sparse_feature_matrix_1[id_to_index[d], :].indices:\n",
    "        data_tf_idf.append(tf_idf(t, d, index_to_id))\n",
    "        row_ind.append(id_to_index[d])\n",
    "        col_ind.append(t)"
   ]
  },
  {
   "cell_type": "code",
   "execution_count": 212,
   "metadata": {},
   "outputs": [],
   "source": [
    "from scipy.sparse import csr_matrix\n",
    "\n",
    "tf_idf_sparse_matrix = csr_matrix((np.array(data_tf_idf), (np.array(row_ind), np.array(col_ind))),\n",
    "                                  shape=np.shape(sparse_feature_matrix))"
   ]
  },
  {
   "cell_type": "markdown",
   "metadata": {},
   "source": [
    "## Part 3 \n",
    "Выведите подсчитанные признаки из пункта 2 для фильма с id 99114."
   ]
  },
  {
   "cell_type": "code",
   "execution_count": 219,
   "metadata": {},
   "outputs": [],
   "source": [
    "num_2_words_bigrams = {\n",
    "    v: k\n",
    "    for k, v in count_vectorizer.vocabulary_.items()\n",
    "}\n",
    "num_2_words = {\n",
    "    v: k\n",
    "    for k, v in count_vectorizer_1.vocabulary_.items()\n",
    "}"
   ]
  },
  {
   "cell_type": "code",
   "execution_count": 222,
   "metadata": {},
   "outputs": [
    {
     "name": "stdout",
     "output_type": "stream",
     "text": [
      "released in 1\n",
      "and released 1\n",
      "vaallidharu and 1\n",
      "as vaallidharu 1\n",
      "telugu as 1\n",
      "in telugu 1\n",
      "rangeela and 1\n",
      "mr rangeela 1\n",
      "as mr 1\n",
      "hindi as 1\n",
      "into hindi 1\n",
      "dubbed into 1\n",
      "later dubbed 1\n",
      "was later 1\n",
      "superhit at 1\n",
      "declared superhit 1\n",
      "was declared 1\n",
      "2002 and 1\n",
      "november 2002 1\n",
      "29 november 1\n",
      "on 29 1\n",
      "released on 1\n",
      "panneerselvam released 1\n",
      "by panneerselvam 1\n",
      "handled by 1\n",
      "cinematography handled 1\n",
      "and cinematography 1\n",
      "raja and 1\n",
      "shankar raja 1\n",
      "yuvan shankar 1\n",
      "by yuvan 1\n",
      "scored by 1\n",
      "music scored 1\n",
      "had music 1\n",
      "which had 1\n",
      "film which 1\n",
      "cast the 1\n",
      "supporting cast 1\n",
      "the supporting 1\n",
      "karunas among 1\n",
      "and karunas 1\n",
      "devan and 1\n",
      "prabhu devan 1\n",
      "venkat prabhu 1\n",
      "jayaraman venkat 1\n",
      "gayatri jayaraman 1\n",
      "with gayatri 1\n",
      "roles with 1\n",
      "lead roles 1\n",
      "the lead 1\n",
      "sneha in 1\n",
      "and sneha 1\n",
      "srikanth and 1\n",
      "starring srikanth 1\n",
      "stanley starring 1\n",
      "newcomer stanley 1\n",
      "by newcomer 1\n",
      "and directed 1\n",
      "written and 1\n",
      "film written 1\n",
      "romantic drama 1\n",
      "tamil romantic 1\n",
      "indian tamil 1\n",
      "2002 indian 1\n",
      "is 2002 1\n",
      "april is 1\n",
      "of april 1\n",
      "month of 1\n",
      "the month 1\n",
      "english in 1\n",
      "தத english 1\n",
      "ரல தத 1\n",
      "ஏப ரல 1\n",
      "tamil ஏப 1\n",
      "maadhathil tamil 1\n",
      "april maadhathil 1\n",
      "vaallidharu 1\n",
      "telugu 1\n",
      "rangeela 1\n",
      "superhit 1\n",
      "29 1\n",
      "panneerselvam 1\n",
      "handled 1\n",
      "cinematography 1\n",
      "raja 1\n",
      "shankar 1\n",
      "yuvan 1\n",
      "scored 1\n",
      "supporting 1\n",
      "karunas 1\n",
      "devan 1\n",
      "prabhu 1\n",
      "venkat 1\n",
      "jayaraman 1\n",
      "gayatri 1\n",
      "sneha 1\n",
      "srikanth 1\n",
      "தத 1\n",
      "ரல 1\n",
      "ஏப 1\n",
      "tamil 2\n",
      "maadhathil 1\n",
      "among others 1\n",
      "drama film 1\n",
      "roles 1\n",
      "hindi 1\n",
      "the box 1\n",
      "box office 1\n",
      "others in 1\n",
      "and was 1\n",
      "in 2004 1\n",
      "november 1\n",
      "dubbed 1\n",
      "april 2\n",
      "office the 1\n",
      "2002 2\n",
      "newcomer 1\n",
      "2004 1\n",
      "indian 1\n",
      "released 2\n",
      "directed by 1\n",
      "directed 1\n",
      "stanley 1\n",
      "lead 1\n",
      "english 1\n",
      "others 1\n",
      "later 1\n",
      "mr 1\n",
      "film was 1\n",
      "box 1\n",
      "romantic 1\n",
      "had 1\n",
      "among 1\n",
      "month 1\n",
      "cast 1\n",
      "and in 1\n",
      "starring 1\n",
      "declared 1\n",
      "at the 1\n",
      "at 1\n",
      "was 2\n",
      "office 1\n",
      "the film 2\n",
      "written 1\n",
      "into 1\n",
      "which 1\n",
      "with 1\n",
      "by 3\n",
      "film 3\n",
      "music 1\n",
      "drama 1\n",
      "on 1\n",
      "in the 3\n",
      "of 1\n",
      "as 2\n",
      "the 6\n",
      "in 5\n",
      "and 7\n",
      "is 1\n"
     ]
    }
   ],
   "source": [
    "# There is no film with id 99114 on tmdb, so i have chosen the nearest one (id 99116)\n",
    "for i in sparse_feature_matrix[id_to_index[99116], :].indices:\n",
    "    print(num_2_words_bigrams[i], sparse_feature_matrix[id_to_index[99116], i])"
   ]
  },
  {
   "cell_type": "code",
   "execution_count": 223,
   "metadata": {
    "scrolled": true
   },
   "outputs": [
    {
     "name": "stdout",
     "output_type": "stream",
     "text": [
      "2002 3.87143756086\n",
      "2004 3.20958348438\n",
      "29 3.83736193505\n",
      "among 2.64910962552\n",
      "and 0.258613730763\n",
      "april 3.61078141993\n",
      "as 0.89509719034\n",
      "at 1.15659171663\n",
      "box 3.04519372869\n",
      "by 0.953918594853\n",
      "cast 2.52159902477\n",
      "cinematography 3.83736193505\n",
      "declared 3.44127783187\n",
      "devan 3.83736193505\n",
      "directed 2.8134993812\n",
      "drama 2.15482537552\n",
      "dubbed 3.04519372869\n",
      "english 2.41741527803\n",
      "film 1.2369834033\n",
      "gayatri 3.83736193505\n",
      "had 2.18572093054\n",
      "handled 3.83736193505\n",
      "hindi 3.44127783187\n",
      "in 0.429235961068\n",
      "indian 2.8134993812\n",
      "into 1.07377227393\n",
      "is 0.406569325273\n",
      "jayaraman 3.83736193505\n",
      "karunas 3.83736193505\n",
      "later 2.28990467728\n",
      "lead 2.37167658793\n",
      "maadhathil 3.83736193505\n",
      "month 3.44127783187\n",
      "mr 2.72541327845\n",
      "music 2.52159902477\n",
      "newcomer 3.44127783187\n",
      "november 3.44127783187\n",
      "of 0.168793404679\n",
      "office 2.8134993812\n",
      "on 0.693785814737\n",
      "others 2.72541327845\n",
      "panneerselvam 3.83736193505\n",
      "prabhu 3.83736193505\n",
      "raja 3.83736193505\n",
      "rangeela 3.83736193505\n",
      "released 3.28239351894\n",
      "roles 3.20958348438\n",
      "romantic 2.52159902477\n",
      "scored 3.83736193505\n",
      "shankar 3.83736193505\n",
      "sneha 3.83736193505\n",
      "srikanth 3.83736193505\n",
      "stanley 3.04519372869\n",
      "starring 2.52159902477\n",
      "superhit 3.83736193505\n",
      "supporting 3.83736193505\n",
      "tamil 4.31703217693\n",
      "telugu 3.83736193505\n",
      "the 0.114873250446\n",
      "vaallidharu 3.83736193505\n",
      "venkat 3.83736193505\n",
      "was 1.85576270776\n",
      "which 1.55794247987\n",
      "with 0.550177570005\n",
      "written 3.44127783187\n",
      "yuvan 3.83736193505\n",
      "ஏப 3.83736193505\n",
      "தத 3.83736193505\n",
      "ரல 3.83736193505\n"
     ]
    }
   ],
   "source": [
    "for i in tf_idf_sparse_matrix[id_to_index[99116], :].indices:\n",
    "    print(num_2_words[i], tf_idf_sparse_matrix[id_to_index[99116], i])"
   ]
  },
  {
   "cell_type": "markdown",
   "metadata": {},
   "source": [
    "## Part 4\n",
    "Для каждого пользователя найдите топ жанров, которые нравятся пользователю (можно делать как на семинаре top 5, top 3 и top 2) и порекомендуйте таким пользователя фильмы близкие по текстовому описанию (см. пункт 2). Для оценки результатов пункта 3 используйте метрику HitRate и метрики ранжирования (N)DCG. Формулу для подсчета HitRate можно взять на семинаре,  (N)DCG: https://en.wikipedia.org/wiki/Discounted_cumulative_gain\n",
    "\n"
   ]
  },
  {
   "cell_type": "code",
   "execution_count": 273,
   "metadata": {},
   "outputs": [
    {
     "name": "stderr",
     "output_type": "stream",
     "text": [
      "100%|██████████| 10/10 [00:00<00:00, 29641.72it/s]\n"
     ]
    }
   ],
   "source": [
    "tmdb.API_KEY = '82d15a009321e054584df26bf7530dc7'\n",
    "users = {}\n",
    "\n",
    "for i in trange(10):\n",
    "    try:\n",
    "        users[i] = tmdb.Account(i)\n",
    "    except Exception:\n",
    "        continue"
   ]
  },
  {
   "cell_type": "code",
   "execution_count": 274,
   "metadata": {},
   "outputs": [
    {
     "ename": "HTTPError",
     "evalue": "401 Client Error: Unauthorized for url: https://api.themoviedb.org/3/account?session_id=0&api_key=82d15a009321e054584df26bf7530dc7",
     "output_type": "error",
     "traceback": [
      "\u001b[0;31m---------------------------------------------------------------------------\u001b[0m",
      "\u001b[0;31mHTTPError\u001b[0m                                 Traceback (most recent call last)",
      "\u001b[0;32m<ipython-input-274-0868ff9f0c70>\u001b[0m in \u001b[0;36m<module>\u001b[0;34m()\u001b[0m\n\u001b[0;32m----> 1\u001b[0;31m \u001b[0musers\u001b[0m\u001b[0;34m[\u001b[0m\u001b[0;36m0\u001b[0m\u001b[0;34m]\u001b[0m\u001b[0;34m.\u001b[0m\u001b[0minfo\u001b[0m\u001b[0;34m(\u001b[0m\u001b[0;34m)\u001b[0m\u001b[0;34m\u001b[0m\u001b[0m\n\u001b[0m",
      "\u001b[0;32m~/anaconda3/lib/python3.6/site-packages/tmdbsimple/account.py\u001b[0m in \u001b[0;36minfo\u001b[0;34m(self, **kwargs)\u001b[0m\n\u001b[1;32m     53\u001b[0m         \u001b[0mkwargs\u001b[0m\u001b[0;34m.\u001b[0m\u001b[0mupdate\u001b[0m\u001b[0;34m(\u001b[0m\u001b[0;34m{\u001b[0m\u001b[0;34m'session_id'\u001b[0m\u001b[0;34m:\u001b[0m \u001b[0mself\u001b[0m\u001b[0;34m.\u001b[0m\u001b[0msession_id\u001b[0m\u001b[0;34m}\u001b[0m\u001b[0;34m)\u001b[0m\u001b[0;34m\u001b[0m\u001b[0m\n\u001b[1;32m     54\u001b[0m \u001b[0;34m\u001b[0m\u001b[0m\n\u001b[0;32m---> 55\u001b[0;31m         \u001b[0mresponse\u001b[0m \u001b[0;34m=\u001b[0m \u001b[0mself\u001b[0m\u001b[0;34m.\u001b[0m\u001b[0m_GET\u001b[0m\u001b[0;34m(\u001b[0m\u001b[0mpath\u001b[0m\u001b[0;34m,\u001b[0m \u001b[0mkwargs\u001b[0m\u001b[0;34m)\u001b[0m\u001b[0;34m\u001b[0m\u001b[0m\n\u001b[0m\u001b[1;32m     56\u001b[0m         \u001b[0mself\u001b[0m\u001b[0;34m.\u001b[0m\u001b[0mid\u001b[0m \u001b[0;34m=\u001b[0m \u001b[0mresponse\u001b[0m\u001b[0;34m[\u001b[0m\u001b[0;34m'id'\u001b[0m\u001b[0;34m]\u001b[0m\u001b[0;34m\u001b[0m\u001b[0m\n\u001b[1;32m     57\u001b[0m         \u001b[0mself\u001b[0m\u001b[0;34m.\u001b[0m\u001b[0m_set_attrs_to_values\u001b[0m\u001b[0;34m(\u001b[0m\u001b[0mresponse\u001b[0m\u001b[0;34m)\u001b[0m\u001b[0;34m\u001b[0m\u001b[0m\n",
      "\u001b[0;32m~/anaconda3/lib/python3.6/site-packages/tmdbsimple/base.py\u001b[0m in \u001b[0;36m_GET\u001b[0;34m(self, path, params)\u001b[0m\n\u001b[1;32m     83\u001b[0m \u001b[0;34m\u001b[0m\u001b[0m\n\u001b[1;32m     84\u001b[0m     \u001b[0;32mdef\u001b[0m \u001b[0m_GET\u001b[0m\u001b[0;34m(\u001b[0m\u001b[0mself\u001b[0m\u001b[0;34m,\u001b[0m \u001b[0mpath\u001b[0m\u001b[0;34m,\u001b[0m \u001b[0mparams\u001b[0m\u001b[0;34m=\u001b[0m\u001b[0;32mNone\u001b[0m\u001b[0;34m)\u001b[0m\u001b[0;34m:\u001b[0m\u001b[0;34m\u001b[0m\u001b[0m\n\u001b[0;32m---> 85\u001b[0;31m         \u001b[0;32mreturn\u001b[0m \u001b[0mself\u001b[0m\u001b[0;34m.\u001b[0m\u001b[0m_request\u001b[0m\u001b[0;34m(\u001b[0m\u001b[0;34m'GET'\u001b[0m\u001b[0;34m,\u001b[0m \u001b[0mpath\u001b[0m\u001b[0;34m,\u001b[0m \u001b[0mparams\u001b[0m\u001b[0;34m=\u001b[0m\u001b[0mparams\u001b[0m\u001b[0;34m)\u001b[0m\u001b[0;34m\u001b[0m\u001b[0m\n\u001b[0m\u001b[1;32m     86\u001b[0m \u001b[0;34m\u001b[0m\u001b[0m\n\u001b[1;32m     87\u001b[0m     \u001b[0;32mdef\u001b[0m \u001b[0m_POST\u001b[0m\u001b[0;34m(\u001b[0m\u001b[0mself\u001b[0m\u001b[0;34m,\u001b[0m \u001b[0mpath\u001b[0m\u001b[0;34m,\u001b[0m \u001b[0mparams\u001b[0m\u001b[0;34m=\u001b[0m\u001b[0;32mNone\u001b[0m\u001b[0;34m,\u001b[0m \u001b[0mpayload\u001b[0m\u001b[0;34m=\u001b[0m\u001b[0;32mNone\u001b[0m\u001b[0;34m)\u001b[0m\u001b[0;34m:\u001b[0m\u001b[0;34m\u001b[0m\u001b[0m\n",
      "\u001b[0;32m~/anaconda3/lib/python3.6/site-packages/tmdbsimple/base.py\u001b[0m in \u001b[0;36m_request\u001b[0;34m(self, method, path, params, payload)\u001b[0m\n\u001b[1;32m     78\u001b[0m             headers=self.headers)\n\u001b[1;32m     79\u001b[0m \u001b[0;34m\u001b[0m\u001b[0m\n\u001b[0;32m---> 80\u001b[0;31m         \u001b[0mresponse\u001b[0m\u001b[0;34m.\u001b[0m\u001b[0mraise_for_status\u001b[0m\u001b[0;34m(\u001b[0m\u001b[0;34m)\u001b[0m\u001b[0;34m\u001b[0m\u001b[0m\n\u001b[0m\u001b[1;32m     81\u001b[0m         \u001b[0mresponse\u001b[0m\u001b[0;34m.\u001b[0m\u001b[0mencoding\u001b[0m \u001b[0;34m=\u001b[0m \u001b[0;34m'utf-8'\u001b[0m\u001b[0;34m\u001b[0m\u001b[0m\n\u001b[1;32m     82\u001b[0m         \u001b[0;32mreturn\u001b[0m \u001b[0mresponse\u001b[0m\u001b[0;34m.\u001b[0m\u001b[0mjson\u001b[0m\u001b[0;34m(\u001b[0m\u001b[0;34m)\u001b[0m\u001b[0;34m\u001b[0m\u001b[0m\n",
      "\u001b[0;32m~/anaconda3/lib/python3.6/site-packages/requests/models.py\u001b[0m in \u001b[0;36mraise_for_status\u001b[0;34m(self)\u001b[0m\n\u001b[1;32m    933\u001b[0m \u001b[0;34m\u001b[0m\u001b[0m\n\u001b[1;32m    934\u001b[0m         \u001b[0;32mif\u001b[0m \u001b[0mhttp_error_msg\u001b[0m\u001b[0;34m:\u001b[0m\u001b[0;34m\u001b[0m\u001b[0m\n\u001b[0;32m--> 935\u001b[0;31m             \u001b[0;32mraise\u001b[0m \u001b[0mHTTPError\u001b[0m\u001b[0;34m(\u001b[0m\u001b[0mhttp_error_msg\u001b[0m\u001b[0;34m,\u001b[0m \u001b[0mresponse\u001b[0m\u001b[0;34m=\u001b[0m\u001b[0mself\u001b[0m\u001b[0;34m)\u001b[0m\u001b[0;34m\u001b[0m\u001b[0m\n\u001b[0m\u001b[1;32m    936\u001b[0m \u001b[0;34m\u001b[0m\u001b[0m\n\u001b[1;32m    937\u001b[0m     \u001b[0;32mdef\u001b[0m \u001b[0mclose\u001b[0m\u001b[0;34m(\u001b[0m\u001b[0mself\u001b[0m\u001b[0;34m)\u001b[0m\u001b[0;34m:\u001b[0m\u001b[0;34m\u001b[0m\u001b[0m\n",
      "\u001b[0;31mHTTPError\u001b[0m: 401 Client Error: Unauthorized for url: https://api.themoviedb.org/3/account?session_id=0&api_key=82d15a009321e054584df26bf7530dc7"
     ]
    }
   ],
   "source": [
    "users[0].info()"
   ]
  },
  {
   "cell_type": "code",
   "execution_count": 257,
   "metadata": {},
   "outputs": [
    {
     "name": "stdout",
     "output_type": "stream",
     "text": [
      "{\"status_code\":3,\"status_message\":\"Authentication failed: You do not have permissions to access the service.\"}\n"
     ]
    }
   ],
   "source": [
    "import http.client\n",
    "\n",
    "conn = http.client.HTTPSConnection(\"api.themoviedb.org\")\n",
    "\n",
    "payload = \"{}\"\n",
    "\n",
    "conn.request(\"GET\", \"/3/account/%7Baccount_id%7D/favorite/movies?page=1&sort_by=created_at.asc&language=en-US&api_key=6610a2df2a35548473ddd5aac84404b1\", payload)\n",
    "\n",
    "res = conn.getresponse()\n",
    "data = res.read()\n",
    "\n",
    "print(data.decode(\"utf-8\"))"
   ]
  },
  {
   "cell_type": "code",
   "execution_count": null,
   "metadata": {
    "collapsed": true
   },
   "outputs": [],
   "source": []
  }
 ],
 "metadata": {
  "kernelspec": {
   "display_name": "Python 3",
   "language": "python",
   "name": "python3"
  },
  "language_info": {
   "codemirror_mode": {
    "name": "ipython",
    "version": 3
   },
   "file_extension": ".py",
   "mimetype": "text/x-python",
   "name": "python",
   "nbconvert_exporter": "python",
   "pygments_lexer": "ipython3",
   "version": "3.6.3"
  }
 },
 "nbformat": 4,
 "nbformat_minor": 1
}
