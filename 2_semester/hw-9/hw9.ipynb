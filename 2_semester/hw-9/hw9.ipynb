{
 "cells": [
  {
   "cell_type": "markdown",
   "metadata": {},
   "source": [
    "<span style=\"font-size: 14pt\">MIPT, Advanced ML, Autumn 2017</span>\n",
    "\n",
    "<span style=\"font-size: 16pt\"> HW #9: Recommendation System\n",
    "\n",
    "<span style=\"color:blue; font-size: 12pt\">Andrey Saitgalin </span>\n",
    "<span style=\"color:blue; font-size: 12pt; font-family: 'Verdana'\">andrey.saitgalin@gmail.com</span>, \n",
    "\n",
    "<span style=\"color:blue; font-size: 12pt\">Alexey Dral </span>,\n",
    "<span style=\"color:blue; font-size: 12pt; font-family: 'Verdana'\">aadral@gmail.com</span>"
   ]
  },
  {
   "cell_type": "markdown",
   "metadata": {},
   "source": [
    "<h1 align=\"center\">Organization Info</h1> "
   ]
  },
  {
   "cell_type": "markdown",
   "metadata": {},
   "source": [
    "**Дополнительный материал для выполнения дз**:\n",
    "<a href= \"https://github.com/ml-mipt/ml-mipt-part2/tree/master/2017/lectures\">Лекции по курсу</a>\n",
    "\n",
    "**Оформление дз**: \n",
    "- Присылайте выполненное задание на почту ``ml.course.mipt@gmail.com``\n",
    "- Укажите тему письма в следующем формате ``ML2017_Aut_fall <номер_группы> <фамилия>``, к примеру -- ``ML2017_Aut_fall 401 ivanov``\n",
    "- Выполненное дз сохраните в файл ``<фамилия>_<группа>_task<номер>.ipnb``, к примеру -- ``ivanov_491_task9.ipnb``\n",
    "\n",
    "**Вопросы**:\n",
    "- Присылайте вопросы на почту ``ml.course.mipt@gmail.com``\n",
    "- Укажите тему письма в следующем формате ``ML2017_Aut_fall Question <Содержание вопроса>``\n",
    "\n",
    "** Дедлайн**:\n",
    "<span style=\"color:red; font-size: 12pt\">16.12.2017 23:59 </span>\n",
    "\n",
    "--------\n",
    "- **PS1**: Мы используем автоматические фильтры, и просто не найдем ваше дз, если вы не аккуратно его подпишите.\n",
    "- **PS2**: Напоминаем, что дедлайны жесткие, письма пришедшие после автоматически удаляются =( чтобы соблазна не было."
   ]
  },
  {
   "cell_type": "markdown",
   "metadata": {},
   "source": [
    "<h1 align=\"center\">Check Questions (0%)</h1> \n",
    "Вопросы отсутствуют\n",
    "Ответы тоже"
   ]
  },
  {
   "cell_type": "markdown",
   "metadata": {},
   "source": [
    "<h1 align=\"center\"> Practical tasks (100%)</h1>\n",
    "\n",
    "\n",
    "# Построение content-based рекомендательной системы\n",
    "## Part 1\n",
    "Для каждого фильма получите описание в текстовом виде с IMDB или (и) The movie database (у них есть открытое API). https://www.themoviedb.org/?language=ru. Вывести описание фильма под id 778. Также можно использовать рецензии."
   ]
  },
  {
   "cell_type": "code",
   "execution_count": 11,
   "metadata": {
    "collapsed": true
   },
   "outputs": [],
   "source": [
    "import tmdbsimple as tmdb\n",
    "from tqdm import trange\n",
    "import numpy as np"
   ]
  },
  {
   "cell_type": "code",
   "execution_count": 4,
   "metadata": {},
   "outputs": [
    {
     "name": "stderr",
     "output_type": "stream",
     "text": [
      "100%|██████████| 1000/1000 [10:01<00:00,  1.66it/s]\n"
     ]
    }
   ],
   "source": [
    "tmdb.API_KEY = \"82d15a009321e054584df26bf7530dc7\"\n",
    "\n",
    "movies = {}\n",
    "\n",
    "for i in trange(1000):\n",
    "    try:\n",
    "        movies[i] = tmdb.Movies(i).info()['overview']\n",
    "    except Exception:\n",
    "        continue"
   ]
  },
  {
   "cell_type": "code",
   "execution_count": 5,
   "metadata": {
    "collapsed": true
   },
   "outputs": [],
   "source": [
    "movies[99116] = tmdb.Movies(99116).info()['overview']"
   ]
  },
  {
   "cell_type": "code",
   "execution_count": 36,
   "metadata": {
    "collapsed": true
   },
   "outputs": [],
   "source": [
    "movies[99114] = tmdb.Movies(68718).info()['overview']"
   ]
  },
  {
   "cell_type": "code",
   "execution_count": 49,
   "metadata": {},
   "outputs": [
    {
     "data": {
      "text/plain": [
       "'Monsieur Hulot, Jacques Tati’s endearing clown, takes a holiday at a seaside resort, where his presence provokes one catastrophe after another. Tati’s masterpiece of gentle slapstick is a series of effortlessly well-choreographed sight gags involving dogs, boats, and firecrackers; it was the first entry in the Hulot series and the film that launched its maker to international stardom.'"
      ]
     },
     "execution_count": 49,
     "metadata": {},
     "output_type": "execute_result"
    }
   ],
   "source": [
    "movies[778]"
   ]
  },
  {
   "cell_type": "markdown",
   "metadata": {},
   "source": [
    "## Part 2 \n",
    "Извлеките текстовые признаки у фильмов: tf idf, биграммы (может какие-то еще). Биграммы - статистика по биграммам, сколько какая биграмма встречается. Формулы для TF-IDF смотреть тут: https://en.wikipedia.org/wiki/Tf%E2%80%93idf \n",
    "    1. Используйте TF с double 0.5 normalization\n",
    "    2. Используйте стандартный IDF: \n",
    "$$idf(t, D) = \\frac{log N}{(1 + |d in D : t in d|)}$$"
   ]
  },
  {
   "cell_type": "code",
   "execution_count": 50,
   "metadata": {
    "collapsed": true
   },
   "outputs": [],
   "source": [
    "from sklearn.feature_extraction.text import CountVectorizer\n",
    "\n",
    "count_vectorizer = CountVectorizer(ngram_range=(1, 2)) \n",
    "count_vectorizer_1 = CountVectorizer(ngram_range=(1, 1))"
   ]
  },
  {
   "cell_type": "code",
   "execution_count": 51,
   "metadata": {},
   "outputs": [
    {
     "data": {
      "text/plain": [
       "<828x36674 sparse matrix of type '<class 'numpy.int64'>'\n",
       "\twith 71410 stored elements in Compressed Sparse Row format>"
      ]
     },
     "execution_count": 51,
     "metadata": {},
     "output_type": "execute_result"
    }
   ],
   "source": [
    "sparse_feature_matrix = count_vectorizer.fit_transform(list(movies.values()))\n",
    "sparse_feature_matrix"
   ]
  },
  {
   "cell_type": "code",
   "execution_count": 52,
   "metadata": {},
   "outputs": [
    {
     "data": {
      "text/plain": [
       "<828x8218 sparse matrix of type '<class 'numpy.int64'>'\n",
       "\twith 32883 stored elements in Compressed Sparse Row format>"
      ]
     },
     "execution_count": 52,
     "metadata": {},
     "output_type": "execute_result"
    }
   ],
   "source": [
    "sparse_feature_matrix_1 = count_vectorizer_1.fit_transform(list(movies.values()))\n",
    "sparse_feature_matrix_1"
   ]
  },
  {
   "cell_type": "code",
   "execution_count": 53,
   "metadata": {},
   "outputs": [],
   "source": [
    "index_to_id = np.unique(np.sort(list(movies.keys())))\n",
    "id_to_index = {}\n",
    "\n",
    "for index, value in enumerate(index_to_id):\n",
    "    id_to_index[int(value)] = index\n",
    "\n",
    "assert len(index_to_id) == len(movies)"
   ]
  },
  {
   "cell_type": "code",
   "execution_count": 54,
   "metadata": {
    "collapsed": true
   },
   "outputs": [],
   "source": [
    "def tf_idf(t, d, D):\n",
    "    \n",
    "    tf = 0.5 + 0.5*(sparse_feature_matrix_1[id_to_index[d], t]/\n",
    "                    max(sparse_feature_matrix_1[id_to_index[d], :].data))\n",
    "    idf = np.log(len(D)/len(sparse_feature_matrix_1[:, t].indices))\n",
    "    \n",
    "    return tf * idf"
   ]
  },
  {
   "cell_type": "code",
   "execution_count": 55,
   "metadata": {
    "collapsed": true
   },
   "outputs": [],
   "source": [
    "data_tf_idf = []\n",
    "row_ind = []\n",
    "col_ind = []\n",
    "for d in index_to_id:\n",
    "    for t in sparse_feature_matrix_1[id_to_index[d], :].indices:\n",
    "        data_tf_idf.append(tf_idf(t, d, index_to_id))\n",
    "        row_ind.append(id_to_index[d])\n",
    "        col_ind.append(t)"
   ]
  },
  {
   "cell_type": "code",
   "execution_count": 56,
   "metadata": {
    "collapsed": true
   },
   "outputs": [],
   "source": [
    "from scipy.sparse import csr_matrix\n",
    "\n",
    "tf_idf_sparse_matrix = csr_matrix((np.array(data_tf_idf), (np.array(row_ind), np.array(col_ind))),\n",
    "                                  shape=np.shape(sparse_feature_matrix))"
   ]
  },
  {
   "cell_type": "markdown",
   "metadata": {},
   "source": [
    "## Part 3 \n",
    "Выведите подсчитанные признаки из пункта 2 для фильма с id 99114."
   ]
  },
  {
   "cell_type": "code",
   "execution_count": 57,
   "metadata": {
    "collapsed": true
   },
   "outputs": [],
   "source": [
    "num_2_words_bigrams = {\n",
    "    v: k\n",
    "    for k, v in count_vectorizer.vocabulary_.items()\n",
    "}\n",
    "num_2_words = {\n",
    "    v: k\n",
    "    for k, v in count_vectorizer_1.vocabulary_.items()\n",
    "}"
   ]
  },
  {
   "cell_type": "code",
   "execution_count": 86,
   "metadata": {},
   "outputs": [
    {
     "name": "stdout",
     "output_type": "stream",
     "text": [
      "in 2004 1\n",
      "released in 1\n",
      "and released 1\n",
      "vaallidharu and 1\n",
      "as vaallidharu 1\n",
      "telugu as 1\n",
      "in telugu 1\n",
      "rangeela and 1\n",
      "mr rangeela 1\n",
      "as mr 1\n",
      "hindi as 1\n",
      "into hindi 1\n",
      "dubbed into 1\n",
      "later dubbed 1\n",
      "was later 1\n",
      "superhit at 1\n",
      "declared superhit 1\n",
      "was declared 1\n",
      "2002 and 1\n",
      "november 2002 1\n",
      "29 november 1\n",
      "on 29 1\n",
      "released on 1\n",
      "panneerselvam released 1\n",
      "by panneerselvam 1\n",
      "handled by 1\n",
      "cinematography handled 1\n",
      "and cinematography 1\n",
      "raja and 1\n",
      "shankar raja 1\n",
      "yuvan shankar 1\n",
      "by yuvan 1\n",
      "scored by 1\n",
      "music scored 1\n",
      "had music 1\n",
      "which had 1\n",
      "film which 1\n",
      "cast the 1\n",
      "supporting cast 1\n",
      "the supporting 1\n",
      "karunas among 1\n",
      "and karunas 1\n",
      "devan and 1\n",
      "prabhu devan 1\n",
      "venkat prabhu 1\n",
      "jayaraman venkat 1\n",
      "gayatri jayaraman 1\n",
      "with gayatri 1\n",
      "roles with 1\n",
      "lead roles 1\n",
      "the lead 1\n",
      "sneha in 1\n",
      "and sneha 1\n",
      "srikanth and 1\n",
      "starring srikanth 1\n",
      "stanley starring 1\n",
      "newcomer stanley 1\n",
      "by newcomer 1\n",
      "and directed 1\n",
      "written and 1\n",
      "film written 1\n",
      "drama film 1\n",
      "romantic drama 1\n",
      "tamil romantic 1\n",
      "indian tamil 1\n",
      "2002 indian 1\n",
      "is 2002 1\n",
      "april is 1\n",
      "of april 1\n",
      "month of 1\n",
      "the month 1\n",
      "english in 1\n",
      "தத english 1\n",
      "ரல தத 1\n",
      "ஏப ரல 1\n",
      "tamil ஏப 1\n",
      "maadhathil tamil 1\n",
      "april maadhathil 1\n",
      "vaallidharu 1\n",
      "telugu 1\n",
      "rangeela 1\n",
      "superhit 1\n",
      "november 1\n",
      "29 1\n",
      "panneerselvam 1\n",
      "handled 1\n",
      "cinematography 1\n",
      "raja 1\n",
      "shankar 1\n",
      "yuvan 1\n",
      "scored 1\n",
      "supporting 1\n",
      "karunas 1\n",
      "devan 1\n",
      "prabhu 1\n",
      "venkat 1\n",
      "jayaraman 1\n",
      "gayatri 1\n",
      "sneha 1\n",
      "srikanth 1\n",
      "தத 1\n",
      "ரல 1\n",
      "ஏப 1\n",
      "tamil 2\n",
      "maadhathil 1\n",
      "among others 1\n",
      "roles 1\n",
      "hindi 1\n",
      "others in 1\n",
      "and was 1\n",
      "dubbed 1\n",
      "april 2\n",
      "office the 1\n",
      "2002 2\n",
      "newcomer 1\n",
      "released 2\n",
      "2004 1\n",
      "indian 1\n",
      "directed by 1\n",
      "directed 1\n",
      "box office 1\n",
      "the box 1\n",
      "stanley 1\n",
      "lead 1\n",
      "english 1\n",
      "others 1\n",
      "later 1\n",
      "mr 1\n",
      "film was 1\n",
      "box 1\n",
      "romantic 1\n",
      "had 1\n",
      "among 1\n",
      "month 1\n",
      "cast 1\n",
      "and in 1\n",
      "starring 1\n",
      "declared 1\n",
      "at the 1\n",
      "at 1\n",
      "was 2\n",
      "office 1\n",
      "the film 2\n",
      "written 1\n",
      "into 1\n",
      "which 1\n",
      "with 1\n",
      "by 3\n",
      "film 3\n",
      "music 1\n",
      "drama 1\n",
      "on 1\n",
      "in the 3\n",
      "of 1\n",
      "as 2\n",
      "the 6\n",
      "in 5\n",
      "and 7\n",
      "is 1\n"
     ]
    }
   ],
   "source": [
    "# There is no film with id 99114 on tmdb, so i have chosen the nearest one (id 99116)\n",
    "for i in sparse_feature_matrix[id_to_index[99114], :].indices:\n",
    "    print(num_2_words_bigrams[i], sparse_feature_matrix[id_to_index[99114], i])"
   ]
  },
  {
   "cell_type": "code",
   "execution_count": 85,
   "metadata": {
    "scrolled": true
   },
   "outputs": [
    {
     "name": "stdout",
     "output_type": "stream",
     "text": [
      "2002 3.87377098317\n",
      "2004 3.21165763755\n",
      "29 3.83943608822\n",
      "among 2.65118377869\n",
      "and 0.259108700008\n",
      "april 3.61311484225\n",
      "as 0.897430612659\n",
      "at 1.1586658698\n",
      "box 2.91975728111\n",
      "by 0.973162056938\n",
      "cast 2.52367317794\n",
      "cinematography 3.83943608822\n",
      "declared 3.44335198504\n",
      "devan 3.83943608822\n",
      "directed 2.91975728111\n",
      "drama 2.18779508371\n",
      "dubbed 3.04726788187\n",
      "english 2.4194894312\n",
      "film 1.25440608866\n",
      "gayatri 3.83943608822\n",
      "had 2.18779508371\n",
      "handled 3.83943608822\n",
      "hindi 3.44335198504\n",
      "in 0.430634617115\n",
      "indian 2.81557353438\n",
      "into 1.0803996669\n",
      "is 0.408643478445\n",
      "jayaraman 3.83943608822\n",
      "karunas 3.83943608822\n",
      "later 2.29197883045\n",
      "lead 2.3737507411\n",
      "maadhathil 3.83943608822\n",
      "month 3.44335198504\n",
      "mr 2.72748743162\n",
      "music 2.52367317794\n",
      "newcomer 3.44335198504\n",
      "november 3.83943608822\n",
      "of 0.165310672198\n",
      "office 2.72748743162\n",
      "on 0.695859967909\n",
      "others 2.72748743162\n",
      "panneerselvam 3.83943608822\n",
      "prabhu 3.83943608822\n",
      "raja 3.83943608822\n",
      "rangeela 3.83943608822\n",
      "released 3.4281763671\n",
      "roles 3.44335198504\n",
      "romantic 2.52367317794\n",
      "scored 3.83943608822\n",
      "shankar 3.83943608822\n",
      "sneha 3.83943608822\n",
      "srikanth 3.83943608822\n",
      "stanley 3.21165763755\n",
      "starring 2.52367317794\n",
      "superhit 3.83943608822\n",
      "supporting 3.83943608822\n",
      "tamil 4.31936559925\n",
      "telugu 3.83943608822\n",
      "the 0.113162634463\n",
      "vaallidharu 3.83943608822\n",
      "venkat 3.83943608822\n",
      "was 1.87222542725\n",
      "which 1.54953141094\n",
      "with 0.543252662052\n",
      "written 3.44335198504\n",
      "yuvan 3.83943608822\n",
      "ஏப 3.83943608822\n",
      "தத 3.83943608822\n",
      "ரல 3.83943608822\n"
     ]
    }
   ],
   "source": [
    "for i in tf_idf_sparse_matrix[id_to_index[99114], :].indices:\n",
    "    print(num_2_words[i], tf_idf_sparse_matrix[id_to_index[99114], i])"
   ]
  },
  {
   "cell_type": "markdown",
   "metadata": {},
   "source": [
    "## Part 4\n",
    "Для каждого пользователя найдите топ жанров, которые нравятся пользователю (можно делать как на семинаре top 5, top 3 и top 2) и порекомендуйте таким пользователя фильмы близкие по текстовому описанию (см. пункт 2). Для оценки результатов пункта 3 используйте метрику HitRate и метрики ранжирования (N)DCG. Формулу для подсчета HitRate можно взять на семинаре,  (N)DCG: https://en.wikipedia.org/wiki/Discounted_cumulative_gain\n",
    "\n"
   ]
  },
  {
   "cell_type": "code",
   "execution_count": 20,
   "metadata": {},
   "outputs": [],
   "source": [
    "import pandas as pd\n",
    "\n",
    "ratings = pd.read_csv(\"ml-20m/ratings.csv\")"
   ]
  },
  {
   "cell_type": "code",
   "execution_count": 21,
   "metadata": {},
   "outputs": [
    {
     "data": {
      "text/html": [
       "<div>\n",
       "<style>\n",
       "    .dataframe thead tr:only-child th {\n",
       "        text-align: right;\n",
       "    }\n",
       "\n",
       "    .dataframe thead th {\n",
       "        text-align: left;\n",
       "    }\n",
       "\n",
       "    .dataframe tbody tr th {\n",
       "        vertical-align: top;\n",
       "    }\n",
       "</style>\n",
       "<table border=\"1\" class=\"dataframe\">\n",
       "  <thead>\n",
       "    <tr style=\"text-align: right;\">\n",
       "      <th></th>\n",
       "      <th>userId</th>\n",
       "      <th>movieId</th>\n",
       "      <th>rating</th>\n",
       "      <th>timestamp</th>\n",
       "    </tr>\n",
       "  </thead>\n",
       "  <tbody>\n",
       "    <tr>\n",
       "      <th>0</th>\n",
       "      <td>1</td>\n",
       "      <td>2</td>\n",
       "      <td>3.5</td>\n",
       "      <td>1112486027</td>\n",
       "    </tr>\n",
       "    <tr>\n",
       "      <th>1</th>\n",
       "      <td>1</td>\n",
       "      <td>29</td>\n",
       "      <td>3.5</td>\n",
       "      <td>1112484676</td>\n",
       "    </tr>\n",
       "    <tr>\n",
       "      <th>2</th>\n",
       "      <td>1</td>\n",
       "      <td>32</td>\n",
       "      <td>3.5</td>\n",
       "      <td>1112484819</td>\n",
       "    </tr>\n",
       "    <tr>\n",
       "      <th>3</th>\n",
       "      <td>1</td>\n",
       "      <td>47</td>\n",
       "      <td>3.5</td>\n",
       "      <td>1112484727</td>\n",
       "    </tr>\n",
       "    <tr>\n",
       "      <th>4</th>\n",
       "      <td>1</td>\n",
       "      <td>50</td>\n",
       "      <td>3.5</td>\n",
       "      <td>1112484580</td>\n",
       "    </tr>\n",
       "  </tbody>\n",
       "</table>\n",
       "</div>"
      ],
      "text/plain": [
       "   userId  movieId  rating   timestamp\n",
       "0       1        2     3.5  1112486027\n",
       "1       1       29     3.5  1112484676\n",
       "2       1       32     3.5  1112484819\n",
       "3       1       47     3.5  1112484727\n",
       "4       1       50     3.5  1112484580"
      ]
     },
     "execution_count": 21,
     "metadata": {},
     "output_type": "execute_result"
    }
   ],
   "source": [
    "ratings.head()"
   ]
  },
  {
   "cell_type": "code",
   "execution_count": 24,
   "metadata": {},
   "outputs": [],
   "source": [
    "index_to_item_id_mapping = [x for x in ratings[\"movieId\"].sort_values().unique()]\n",
    "item_id_to_index_mapping = {}\n",
    "for index, value in enumerate(index_to_item_id_mapping, start=1):\n",
    "    item_id_to_index_mapping[int(value)] = index\n",
    "\n",
    "assert len(index_to_item_id_mapping) == 26744"
   ]
  },
  {
   "cell_type": "code",
   "execution_count": 29,
   "metadata": {},
   "outputs": [],
   "source": [
    "#ratings = pd.DataFrame.from_records(\n",
    "#    {\"userId\": row.userId, \"movieId\": item_id_to_index_mapping[int(row.movieId)], \"rating\": row.rating}\n",
    "#    for row in ratings.itertuples())"
   ]
  },
  {
   "cell_type": "code",
   "execution_count": 30,
   "metadata": {},
   "outputs": [
    {
     "data": {
      "text/html": [
       "<div>\n",
       "<style>\n",
       "    .dataframe thead tr:only-child th {\n",
       "        text-align: right;\n",
       "    }\n",
       "\n",
       "    .dataframe thead th {\n",
       "        text-align: left;\n",
       "    }\n",
       "\n",
       "    .dataframe tbody tr th {\n",
       "        vertical-align: top;\n",
       "    }\n",
       "</style>\n",
       "<table border=\"1\" class=\"dataframe\">\n",
       "  <thead>\n",
       "    <tr style=\"text-align: right;\">\n",
       "      <th></th>\n",
       "      <th>movieId</th>\n",
       "      <th>rating</th>\n",
       "      <th>userId</th>\n",
       "    </tr>\n",
       "  </thead>\n",
       "  <tbody>\n",
       "    <tr>\n",
       "      <th>0</th>\n",
       "      <td>2</td>\n",
       "      <td>3.5</td>\n",
       "      <td>1</td>\n",
       "    </tr>\n",
       "    <tr>\n",
       "      <th>1</th>\n",
       "      <td>29</td>\n",
       "      <td>3.5</td>\n",
       "      <td>1</td>\n",
       "    </tr>\n",
       "    <tr>\n",
       "      <th>2</th>\n",
       "      <td>32</td>\n",
       "      <td>3.5</td>\n",
       "      <td>1</td>\n",
       "    </tr>\n",
       "    <tr>\n",
       "      <th>3</th>\n",
       "      <td>47</td>\n",
       "      <td>3.5</td>\n",
       "      <td>1</td>\n",
       "    </tr>\n",
       "    <tr>\n",
       "      <th>4</th>\n",
       "      <td>50</td>\n",
       "      <td>3.5</td>\n",
       "      <td>1</td>\n",
       "    </tr>\n",
       "  </tbody>\n",
       "</table>\n",
       "</div>"
      ],
      "text/plain": [
       "   movieId  rating  userId\n",
       "0        2     3.5       1\n",
       "1       29     3.5       1\n",
       "2       32     3.5       1\n",
       "3       47     3.5       1\n",
       "4       50     3.5       1"
      ]
     },
     "execution_count": 30,
     "metadata": {},
     "output_type": "execute_result"
    }
   ],
   "source": [
    "ratings.head()"
   ]
  },
  {
   "cell_type": "code",
   "execution_count": 31,
   "metadata": {
    "collapsed": true
   },
   "outputs": [],
   "source": [
    "links = pd.read_csv(\"ml-20m/links.csv\")"
   ]
  },
  {
   "cell_type": "code",
   "execution_count": 35,
   "metadata": {},
   "outputs": [
    {
     "data": {
      "text/html": [
       "<div>\n",
       "<style>\n",
       "    .dataframe thead tr:only-child th {\n",
       "        text-align: right;\n",
       "    }\n",
       "\n",
       "    .dataframe thead th {\n",
       "        text-align: left;\n",
       "    }\n",
       "\n",
       "    .dataframe tbody tr th {\n",
       "        vertical-align: top;\n",
       "    }\n",
       "</style>\n",
       "<table border=\"1\" class=\"dataframe\">\n",
       "  <thead>\n",
       "    <tr style=\"text-align: right;\">\n",
       "      <th></th>\n",
       "      <th>movieId</th>\n",
       "      <th>imdbId</th>\n",
       "      <th>tmdbId</th>\n",
       "    </tr>\n",
       "  </thead>\n",
       "  <tbody>\n",
       "    <tr>\n",
       "      <th>20124</th>\n",
       "      <td>99114</td>\n",
       "      <td>1853728</td>\n",
       "      <td>68718.0</td>\n",
       "    </tr>\n",
       "  </tbody>\n",
       "</table>\n",
       "</div>"
      ],
      "text/plain": [
       "       movieId   imdbId   tmdbId\n",
       "20124    99114  1853728  68718.0"
      ]
     },
     "execution_count": 35,
     "metadata": {},
     "output_type": "execute_result"
    }
   ],
   "source": [
    "links[links['movieId']==99114]"
   ]
  },
  {
   "cell_type": "code",
   "execution_count": 83,
   "metadata": {
    "collapsed": true
   },
   "outputs": [],
   "source": [
    "def run_cv(predictor_class, fold_count=5, top_size=10):\n",
    "    users = list(range(len(ratings[\"userId\"].unique())))\n",
    "    fold_size = len(users) // fold_count\n",
    "\n",
    "    results = []\n",
    "\n",
    "    for fold_start in range(fold_count):\n",
    "        fold = users[fold_start:fold_start+fold_size]\n",
    "\n",
    "        ratings[\"random\"] = np.random.random(size=(ratings.shape[0], 1))\n",
    "        idx = ratings.sort_values(by=\"random\") \\\n",
    "            .reset_index() \\\n",
    "            .groupby(\"userId\") \\\n",
    "            .last()[\"index\"]\n",
    "\n",
    "        mask = ratings.index.isin(idx) & ratings[\"userId\"].isin(fold)\n",
    "        train_df = ratings[~mask]\n",
    "        test_df = ratings[mask]\n",
    "\n",
    "        predictor = predictor_class(train_df, test_df)\n",
    "        \n",
    "        sum_ = 0.0\n",
    "        for row in test_df.itertuples():\n",
    "            prediction = predictor.predict(row)\n",
    "            if prediction is None:\n",
    "                continue\n",
    "                \n",
    "            sum_ += float(row.movieId in prediction)\n",
    "\n",
    "        results.append(sum_ / test_df.shape[0])\n",
    "    \n",
    "    return np.mean(results)"
   ]
  },
  {
   "cell_type": "code",
   "execution_count": 61,
   "metadata": {
    "collapsed": true
   },
   "outputs": [],
   "source": [
    "df_movie = pd.read_csv(\"ml-20m/movies.csv\")"
   ]
  },
  {
   "cell_type": "code",
   "execution_count": 62,
   "metadata": {
    "collapsed": true
   },
   "outputs": [],
   "source": [
    "from collections import Counter\n",
    "\n",
    "genres = []\n",
    "\n",
    "for row in df_movie.itertuples():\n",
    "    genre_list = row.genres.split(\"|\")\n",
    "    genres.extend(genre_list)\n",
    "\n",
    "cntr = Counter(genres)"
   ]
  },
  {
   "cell_type": "code",
   "execution_count": 63,
   "metadata": {},
   "outputs": [
    {
     "data": {
      "text/plain": [
       "Counter({'(no genres listed)': 246,\n",
       "         'Action': 3520,\n",
       "         'Adventure': 2329,\n",
       "         'Animation': 1027,\n",
       "         'Children': 1139,\n",
       "         'Comedy': 8374,\n",
       "         'Crime': 2939,\n",
       "         'Documentary': 2471,\n",
       "         'Drama': 13344,\n",
       "         'Fantasy': 1412,\n",
       "         'Film-Noir': 330,\n",
       "         'Horror': 2611,\n",
       "         'IMAX': 196,\n",
       "         'Musical': 1036,\n",
       "         'Mystery': 1514,\n",
       "         'Romance': 4127,\n",
       "         'Sci-Fi': 1743,\n",
       "         'Thriller': 4178,\n",
       "         'War': 1194,\n",
       "         'Western': 676})"
      ]
     },
     "execution_count": 63,
     "metadata": {},
     "output_type": "execute_result"
    }
   ],
   "source": [
    "cntr"
   ]
  },
  {
   "cell_type": "code",
   "execution_count": 64,
   "metadata": {},
   "outputs": [
    {
     "data": {
      "text/plain": [
       "[('Drama', 13344),\n",
       " ('Comedy', 8374),\n",
       " ('Thriller', 4178),\n",
       " ('Romance', 4127),\n",
       " ('Action', 3520)]"
      ]
     },
     "execution_count": 64,
     "metadata": {},
     "output_type": "execute_result"
    }
   ],
   "source": [
    "cntr.most_common(5)"
   ]
  },
  {
   "cell_type": "code",
   "execution_count": 66,
   "metadata": {},
   "outputs": [],
   "source": [
    "df_joined = pd.merge(ratings, df_movie[[\"movieId\", \"genres\"]], on=\"movieId\", how=\"inner\")"
   ]
  },
  {
   "cell_type": "code",
   "execution_count": 67,
   "metadata": {
    "collapsed": true
   },
   "outputs": [],
   "source": [
    "def genre_list(x):\n",
    "    return list(set(\"|\".join(x.tolist()).split(\"|\")))\n",
    "\n",
    "def genre_list_len(x):\n",
    "    return len(genre_list(x))\n",
    "\n",
    "def popular_genres(x):\n",
    "    return Counter(\"|\".join(x.tolist()).split(\"|\")).most_common(3)\n",
    "\n",
    "df_users = df_joined.groupby('userId').agg({'genres': [genre_list, genre_list_len, popular_genres]})"
   ]
  },
  {
   "cell_type": "code",
   "execution_count": 68,
   "metadata": {},
   "outputs": [
    {
     "data": {
      "text/html": [
       "<div>\n",
       "<style>\n",
       "    .dataframe thead tr:only-child th {\n",
       "        text-align: right;\n",
       "    }\n",
       "\n",
       "    .dataframe thead th {\n",
       "        text-align: left;\n",
       "    }\n",
       "\n",
       "    .dataframe tbody tr th {\n",
       "        vertical-align: top;\n",
       "    }\n",
       "</style>\n",
       "<table border=\"1\" class=\"dataframe\">\n",
       "  <thead>\n",
       "    <tr>\n",
       "      <th></th>\n",
       "      <th colspan=\"3\" halign=\"left\">genres</th>\n",
       "    </tr>\n",
       "    <tr>\n",
       "      <th></th>\n",
       "      <th>genre_list</th>\n",
       "      <th>genre_list_len</th>\n",
       "      <th>popular_genres</th>\n",
       "    </tr>\n",
       "    <tr>\n",
       "      <th>userId</th>\n",
       "      <th></th>\n",
       "      <th></th>\n",
       "      <th></th>\n",
       "    </tr>\n",
       "  </thead>\n",
       "  <tbody>\n",
       "    <tr>\n",
       "      <th>1</th>\n",
       "      <td>[Sci-Fi, Fantasy, Action, Film-Noir, Romance, ...</td>\n",
       "      <td>19</td>\n",
       "      <td>[(Drama, 77), (Comedy, 49), (Romance, 31)]</td>\n",
       "    </tr>\n",
       "    <tr>\n",
       "      <th>2</th>\n",
       "      <td>[Action, Fantasy, Sci-Fi, Film-Noir, Romance, ...</td>\n",
       "      <td>17</td>\n",
       "      <td>[(Drama, 34), (Comedy, 21), (Romance, 13)]</td>\n",
       "    </tr>\n",
       "    <tr>\n",
       "      <th>3</th>\n",
       "      <td>[Sci-Fi, Fantasy, Action, Film-Noir, Thriller,...</td>\n",
       "      <td>18</td>\n",
       "      <td>[(Drama, 94), (Comedy, 55), (Thriller, 40)]</td>\n",
       "    </tr>\n",
       "    <tr>\n",
       "      <th>4</th>\n",
       "      <td>[Sci-Fi, Action, Fantasy, Film-Noir, Romance, ...</td>\n",
       "      <td>16</td>\n",
       "      <td>[(Drama, 13), (Comedy, 8), (Action, 8)]</td>\n",
       "    </tr>\n",
       "    <tr>\n",
       "      <th>5</th>\n",
       "      <td>[Action, Fantasy, Sci-Fi, Film-Noir, Romance, ...</td>\n",
       "      <td>17</td>\n",
       "      <td>[(Drama, 39), (Comedy, 25), (Romance, 16)]</td>\n",
       "    </tr>\n",
       "  </tbody>\n",
       "</table>\n",
       "</div>"
      ],
      "text/plain": [
       "                                                   genres                 \\\n",
       "                                               genre_list genre_list_len   \n",
       "userId                                                                     \n",
       "1       [Sci-Fi, Fantasy, Action, Film-Noir, Romance, ...             19   \n",
       "2       [Action, Fantasy, Sci-Fi, Film-Noir, Romance, ...             17   \n",
       "3       [Sci-Fi, Fantasy, Action, Film-Noir, Thriller,...             18   \n",
       "4       [Sci-Fi, Action, Fantasy, Film-Noir, Romance, ...             16   \n",
       "5       [Action, Fantasy, Sci-Fi, Film-Noir, Romance, ...             17   \n",
       "\n",
       "                                                     \n",
       "                                     popular_genres  \n",
       "userId                                               \n",
       "1        [(Drama, 77), (Comedy, 49), (Romance, 31)]  \n",
       "2        [(Drama, 34), (Comedy, 21), (Romance, 13)]  \n",
       "3       [(Drama, 94), (Comedy, 55), (Thriller, 40)]  \n",
       "4           [(Drama, 13), (Comedy, 8), (Action, 8)]  \n",
       "5        [(Drama, 39), (Comedy, 25), (Romance, 16)]  "
      ]
     },
     "execution_count": 68,
     "metadata": {},
     "output_type": "execute_result"
    }
   ],
   "source": [
    "df_users.head()"
   ]
  },
  {
   "cell_type": "code",
   "execution_count": 69,
   "metadata": {},
   "outputs": [
    {
     "data": {
      "text/html": [
       "<div>\n",
       "<style>\n",
       "    .dataframe thead tr:only-child th {\n",
       "        text-align: right;\n",
       "    }\n",
       "\n",
       "    .dataframe thead th {\n",
       "        text-align: left;\n",
       "    }\n",
       "\n",
       "    .dataframe tbody tr th {\n",
       "        vertical-align: top;\n",
       "    }\n",
       "</style>\n",
       "<table border=\"1\" class=\"dataframe\">\n",
       "  <thead>\n",
       "    <tr style=\"text-align: right;\">\n",
       "      <th></th>\n",
       "      <th>movieId</th>\n",
       "      <th>rating</th>\n",
       "      <th>userId</th>\n",
       "      <th>genres</th>\n",
       "    </tr>\n",
       "  </thead>\n",
       "  <tbody>\n",
       "    <tr>\n",
       "      <th>0</th>\n",
       "      <td>2</td>\n",
       "      <td>3.5</td>\n",
       "      <td>1</td>\n",
       "      <td>Adventure|Children|Fantasy</td>\n",
       "    </tr>\n",
       "    <tr>\n",
       "      <th>22243</th>\n",
       "      <td>29</td>\n",
       "      <td>3.5</td>\n",
       "      <td>1</td>\n",
       "      <td>Adventure|Drama|Fantasy|Mystery|Sci-Fi</td>\n",
       "    </tr>\n",
       "    <tr>\n",
       "      <th>30763</th>\n",
       "      <td>32</td>\n",
       "      <td>3.5</td>\n",
       "      <td>1</td>\n",
       "      <td>Mystery|Sci-Fi|Thriller</td>\n",
       "    </tr>\n",
       "    <tr>\n",
       "      <th>75743</th>\n",
       "      <td>47</td>\n",
       "      <td>3.5</td>\n",
       "      <td>1</td>\n",
       "      <td>Mystery|Thriller</td>\n",
       "    </tr>\n",
       "    <tr>\n",
       "      <th>118992</th>\n",
       "      <td>50</td>\n",
       "      <td>3.5</td>\n",
       "      <td>1</td>\n",
       "      <td>Crime|Mystery|Thriller</td>\n",
       "    </tr>\n",
       "  </tbody>\n",
       "</table>\n",
       "</div>"
      ],
      "text/plain": [
       "        movieId  rating  userId                                  genres\n",
       "0             2     3.5       1              Adventure|Children|Fantasy\n",
       "22243        29     3.5       1  Adventure|Drama|Fantasy|Mystery|Sci-Fi\n",
       "30763        32     3.5       1                 Mystery|Sci-Fi|Thriller\n",
       "75743        47     3.5       1                        Mystery|Thriller\n",
       "118992       50     3.5       1                  Crime|Mystery|Thriller"
      ]
     },
     "execution_count": 69,
     "metadata": {},
     "output_type": "execute_result"
    }
   ],
   "source": [
    "df_joined[df_joined[\"userId\"] == 1].head()"
   ]
  },
  {
   "cell_type": "code",
   "execution_count": 71,
   "metadata": {},
   "outputs": [],
   "source": [
    "df_counts = df_joined.groupby(\"movieId\").count().reset_index()\n",
    "df_counts[\"count\"] = df_counts[\"rating\"]\n",
    "for col in (\"userId\", \"genres\", \"rating\"):\n",
    "    del df_counts[col]"
   ]
  },
  {
   "cell_type": "code",
   "execution_count": 72,
   "metadata": {
    "collapsed": true
   },
   "outputs": [],
   "source": [
    "result = pd.merge(df_joined, df_counts, on=\"movieId\")"
   ]
  },
  {
   "cell_type": "code",
   "execution_count": 73,
   "metadata": {},
   "outputs": [
    {
     "data": {
      "text/html": [
       "<div>\n",
       "<style>\n",
       "    .dataframe thead tr:only-child th {\n",
       "        text-align: right;\n",
       "    }\n",
       "\n",
       "    .dataframe thead th {\n",
       "        text-align: left;\n",
       "    }\n",
       "\n",
       "    .dataframe tbody tr th {\n",
       "        vertical-align: top;\n",
       "    }\n",
       "</style>\n",
       "<table border=\"1\" class=\"dataframe\">\n",
       "  <thead>\n",
       "    <tr style=\"text-align: right;\">\n",
       "      <th></th>\n",
       "      <th>movieId</th>\n",
       "      <th>rating</th>\n",
       "      <th>userId</th>\n",
       "      <th>genres</th>\n",
       "      <th>count</th>\n",
       "    </tr>\n",
       "  </thead>\n",
       "  <tbody>\n",
       "    <tr>\n",
       "      <th>0</th>\n",
       "      <td>2</td>\n",
       "      <td>3.5</td>\n",
       "      <td>1</td>\n",
       "      <td>Adventure|Children|Fantasy</td>\n",
       "      <td>22243</td>\n",
       "    </tr>\n",
       "    <tr>\n",
       "      <th>1</th>\n",
       "      <td>2</td>\n",
       "      <td>3.0</td>\n",
       "      <td>5</td>\n",
       "      <td>Adventure|Children|Fantasy</td>\n",
       "      <td>22243</td>\n",
       "    </tr>\n",
       "    <tr>\n",
       "      <th>2</th>\n",
       "      <td>2</td>\n",
       "      <td>3.0</td>\n",
       "      <td>13</td>\n",
       "      <td>Adventure|Children|Fantasy</td>\n",
       "      <td>22243</td>\n",
       "    </tr>\n",
       "    <tr>\n",
       "      <th>3</th>\n",
       "      <td>2</td>\n",
       "      <td>3.0</td>\n",
       "      <td>29</td>\n",
       "      <td>Adventure|Children|Fantasy</td>\n",
       "      <td>22243</td>\n",
       "    </tr>\n",
       "    <tr>\n",
       "      <th>4</th>\n",
       "      <td>2</td>\n",
       "      <td>3.0</td>\n",
       "      <td>34</td>\n",
       "      <td>Adventure|Children|Fantasy</td>\n",
       "      <td>22243</td>\n",
       "    </tr>\n",
       "  </tbody>\n",
       "</table>\n",
       "</div>"
      ],
      "text/plain": [
       "   movieId  rating  userId                      genres  count\n",
       "0        2     3.5       1  Adventure|Children|Fantasy  22243\n",
       "1        2     3.0       5  Adventure|Children|Fantasy  22243\n",
       "2        2     3.0      13  Adventure|Children|Fantasy  22243\n",
       "3        2     3.0      29  Adventure|Children|Fantasy  22243\n",
       "4        2     3.0      34  Adventure|Children|Fantasy  22243"
      ]
     },
     "execution_count": 73,
     "metadata": {},
     "output_type": "execute_result"
    }
   ],
   "source": [
    "result.head()"
   ]
  },
  {
   "cell_type": "code",
   "execution_count": 75,
   "metadata": {},
   "outputs": [],
   "source": [
    "from collections import defaultdict\n",
    "\n",
    "genre_to_movies = defaultdict(set)\n",
    "\n",
    "for row in result.itertuples():\n",
    "    genres = row.genres.split(\"|\")\n",
    "    for genre in genres:\n",
    "        genre_to_movies[genre].add((row.movieId, row.count))"
   ]
  },
  {
   "cell_type": "code",
   "execution_count": 76,
   "metadata": {
    "collapsed": true
   },
   "outputs": [],
   "source": [
    "genre_to_top_movies = {}\n",
    "\n",
    "for k, v in genre_to_movies.items():\n",
    "    genre_to_top_movies[k] = sorted(list(v), key=lambda p: -p[1])[:10]"
   ]
  },
  {
   "cell_type": "code",
   "execution_count": 77,
   "metadata": {
    "collapsed": true
   },
   "outputs": [],
   "source": [
    "df_users_new = df_users.reset_index()"
   ]
  },
  {
   "cell_type": "code",
   "execution_count": 84,
   "metadata": {},
   "outputs": [
    {
     "data": {
      "text/plain": [
       "0.043967382109264867"
      ]
     },
     "execution_count": 84,
     "metadata": {},
     "output_type": "execute_result"
    }
   ],
   "source": [
    "class ContentBasedPredictor(object):\n",
    "    def __init__(self, train_df, test_df):\n",
    "        pass\n",
    "    \n",
    "    def predict(self, row):\n",
    "        top = list(df_users_new[df_users_new[\"userId\"] == row.userId][(\"genres\", \"popular_genres\")])\n",
    "        \n",
    "        if not top:\n",
    "            return\n",
    "        \n",
    "        top_genres = [k for k, _ in top[0]]\n",
    "        recommendations = []\n",
    "        \n",
    "        i_to_size = {0: 5, 1: 3, 2: 2}\n",
    "        for i, genre in enumerate(top_genres):\n",
    "            for movie, _ in genre_to_top_movies[genre][:i_to_size[i]]:\n",
    "                recommendations.append(movie)\n",
    "        \n",
    "        return recommendations\n",
    "    \n",
    "run_cv(ContentBasedPredictor)"
   ]
  },
  {
   "cell_type": "code",
   "execution_count": null,
   "metadata": {
    "collapsed": true
   },
   "outputs": [],
   "source": []
  }
 ],
 "metadata": {
  "kernelspec": {
   "display_name": "Python 3",
   "language": "python",
   "name": "python3"
  },
  "language_info": {
   "codemirror_mode": {
    "name": "ipython",
    "version": 3
   },
   "file_extension": ".py",
   "mimetype": "text/x-python",
   "name": "python",
   "nbconvert_exporter": "python",
   "pygments_lexer": "ipython3",
   "version": "3.6.3"
  }
 },
 "nbformat": 4,
 "nbformat_minor": 1
}
